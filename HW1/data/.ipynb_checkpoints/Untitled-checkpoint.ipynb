{
 "cells": [
  {
   "cell_type": "code",
   "execution_count": 1,
   "metadata": {},
   "outputs": [
    {
     "name": "stdout",
     "output_type": "stream",
     "text": [
      "[list([2208, 402, 0, 186, 1614, 402, 0, 186])\n",
      " list([10, 52, 414, 32, 9542, 5, 39, 1509, 31, 4771, 3888, 43, 29, 4, 2, 438, 152, 9542, 5, 39, 1509, 0, 10, 1984, 12, 1])\n",
      " list([7746, 15001, 0, 2965, 1480, 4759, 5, 2473, 333, 78, 1254])\n",
      " list([6469, 0, 141, 282])\n",
      " list([1332, 6813, 7, 185, 8, 532, 8406, 2221, 7, 1085, 8])]\n"
     ]
    }
   ],
   "source": [
    "import joblib\n",
    "train_sentences = joblib.load('./train_sentences.sav')\n",
    "print(train_sentences[0:5])"
   ]
  },
  {
   "cell_type": "code",
   "execution_count": 3,
   "metadata": {},
   "outputs": [],
   "source": [
    "train_labels = joblib.load('./train_labels.sav')"
   ]
  },
  {
   "cell_type": "code",
   "execution_count": 4,
   "metadata": {},
   "outputs": [],
   "source": [
    "word2idx = joblib.load('./word2idx.sav')\n",
    "tag2idx = joblib.load('./tag2idx.sav')\n",
    "idx2word = {i:w for (w,i) in word2idx.items()}"
   ]
  },
  {
   "cell_type": "code",
   "execution_count": 10,
   "metadata": {},
   "outputs": [
    {
     "name": "stdout",
     "output_type": "stream",
     "text": [
      "==============================\n",
      ", 0\n",
      ",\n",
      "==============================\n",
      ". 1\n",
      ".\n",
      "==============================\n",
      "the 2\n",
      "the\n",
      "==============================\n",
      "of 3\n",
      "of\n",
      "==============================\n",
      "in 4\n",
      "in\n",
      "==============================\n",
      "to 5\n",
      "to\n",
      "==============================\n",
      "a 6\n",
      "a\n",
      "==============================\n",
      "( 7\n",
      "(\n",
      "==============================\n",
      ") 8\n",
      ")\n",
      "==============================\n",
      "and 9\n",
      "and\n",
      "==============================\n",
      "\" 10\n",
      "\"\n"
     ]
    }
   ],
   "source": [
    "ii = 0 \n",
    "for w,idx in word2idx.items():\n",
    "    print(\"=\"*30)\n",
    "    print(w,idx)\n",
    "    print(idx2word[idx])\n",
    "    ii+=1\n",
    "    \n",
    "    if ii > 10:\n",
    "        break"
   ]
  },
  {
   "cell_type": "code",
   "execution_count": 22,
   "metadata": {},
   "outputs": [],
   "source": [
    "idx2tag = {idx:tag for tag,idx in tag2idx.items()}\n",
    "def sent_in_words(sent_in_indices):\n",
    "    return [idx2word[idx] for idx in sent_in_indices]\n",
    "def sents_in_words(sents_in_indices):\n",
    "    return [sent_in_words(sent) for sent in sents_in_indices]\n",
    "\n",
    "def tag_in_words(tag_in_indices):\n",
    "    return [idx2tag[idx] for idx in tag_in_indices]\n",
    "def tags_in_words(tags_in_indices):\n",
    "    return [tag_in_words(tag) for tag in tags_in_indices]\n",
    "\n",
    "\n"
   ]
  },
  {
   "cell_type": "code",
   "execution_count": 17,
   "metadata": {},
   "outputs": [
    {
     "data": {
      "text/plain": [
       "['Jul', '31', ',', '1996', 'Jan', '31', ',', '1996']"
      ]
     },
     "execution_count": 17,
     "metadata": {},
     "output_type": "execute_result"
    }
   ],
   "source": [
    "sent_in_words(train_sentences[0])"
   ]
  },
  {
   "cell_type": "code",
   "execution_count": 21,
   "metadata": {},
   "outputs": [
    {
     "data": {
      "text/plain": [
       "['O', 'O', 'O', 'O', 'O', 'O', 'O', 'O']"
      ]
     },
     "execution_count": 21,
     "metadata": {},
     "output_type": "execute_result"
    }
   ],
   "source": [
    "tag_in_words(train_labels[0])"
   ]
  },
  {
   "cell_type": "code",
   "execution_count": 23,
   "metadata": {},
   "outputs": [],
   "source": [
    "batch_sentences = train_sentences[0:5]\n",
    "batch_labels = train_labels[0:5]\n"
   ]
  },
  {
   "cell_type": "code",
   "execution_count": 24,
   "metadata": {},
   "outputs": [
    {
     "data": {
      "text/plain": [
       "[['Jul', '31', ',', '1996', 'Jan', '31', ',', '1996'],\n",
       " ['\"',\n",
       "  'I',\n",
       "  'think',\n",
       "  'he',\n",
       "  'deserves',\n",
       "  'to',\n",
       "  'be',\n",
       "  'seeded',\n",
       "  'as',\n",
       "  'everybody',\n",
       "  'else',\n",
       "  'who',\n",
       "  'is',\n",
       "  'in',\n",
       "  'the',\n",
       "  'top',\n",
       "  '16',\n",
       "  'deserves',\n",
       "  'to',\n",
       "  'be',\n",
       "  'seeded',\n",
       "  ',',\n",
       "  '\"',\n",
       "  'Stich',\n",
       "  'said',\n",
       "  '.'],\n",
       " ['Lead',\n",
       "  '<UNK>',\n",
       "  ',',\n",
       "  'delivered',\n",
       "  'consumer',\n",
       "  '4.5',\n",
       "  'to',\n",
       "  '6.0',\n",
       "  'cents',\n",
       "  '/',\n",
       "  'pound'],\n",
       " ['NORTHAMPTON', ',', 'England', '1996-08-30'],\n",
       " ['Alex',\n",
       "  'Corretja',\n",
       "  '(',\n",
       "  'Spain',\n",
       "  ')',\n",
       "  'vs.',\n",
       "  'Byron',\n",
       "  'Black',\n",
       "  '(',\n",
       "  'Zimbabwe',\n",
       "  ')']]"
      ]
     },
     "execution_count": 24,
     "metadata": {},
     "output_type": "execute_result"
    }
   ],
   "source": [
    "sents_in_words(batch_sentences)"
   ]
  },
  {
   "cell_type": "code",
   "execution_count": 25,
   "metadata": {},
   "outputs": [
    {
     "data": {
      "text/plain": [
       "[['O', 'O', 'O', 'O', 'O', 'O', 'O', 'O'],\n",
       " ['O',\n",
       "  'O',\n",
       "  'O',\n",
       "  'O',\n",
       "  'O',\n",
       "  'O',\n",
       "  'O',\n",
       "  'O',\n",
       "  'O',\n",
       "  'O',\n",
       "  'O',\n",
       "  'O',\n",
       "  'O',\n",
       "  'O',\n",
       "  'O',\n",
       "  'O',\n",
       "  'O',\n",
       "  'O',\n",
       "  'O',\n",
       "  'O',\n",
       "  'O',\n",
       "  'O',\n",
       "  'O',\n",
       "  'B-PER',\n",
       "  'O',\n",
       "  'O'],\n",
       " ['O', 'O', 'O', 'O', 'O', 'O', 'O', 'O', 'O', 'O', 'O'],\n",
       " ['B-LOC', 'O', 'B-LOC', 'O'],\n",
       " ['B-PER',\n",
       "  'I-PER',\n",
       "  'O',\n",
       "  'B-LOC',\n",
       "  'O',\n",
       "  'O',\n",
       "  'B-PER',\n",
       "  'I-PER',\n",
       "  'O',\n",
       "  'B-LOC',\n",
       "  'O']]"
      ]
     },
     "execution_count": 25,
     "metadata": {},
     "output_type": "execute_result"
    }
   ],
   "source": [
    "tags_in_words(batch_labels)"
   ]
  },
  {
   "cell_type": "code",
   "execution_count": 26,
   "metadata": {},
   "outputs": [
    {
     "data": {
      "text/plain": [
       "array([list([1, 1, 1, 1, 1, 1, 1, 1]),\n",
       "       list([1, 1, 1, 1, 1, 1, 1, 1, 1, 1, 1, 1, 1, 1, 1, 1, 1, 1, 1, 1, 1, 1, 1, 3, 1, 1]),\n",
       "       list([1, 1, 1, 1, 1, 1, 1, 1, 1, 1, 1]), list([5, 1, 5, 1]),\n",
       "       list([3, 4, 1, 5, 1, 1, 3, 4, 1, 5, 1])], dtype=object)"
      ]
     },
     "execution_count": 26,
     "metadata": {},
     "output_type": "execute_result"
    }
   ],
   "source": [
    "batch_labels"
   ]
  },
  {
   "cell_type": "code",
   "execution_count": null,
   "metadata": {},
   "outputs": [],
   "source": [
    "from scipy import stats\n",
    "e1 = stats.expon(scale=0.5)\n",
    "e2 = stats.expon(scale=0.05)\n"
   ]
  }
 ],
 "metadata": {
  "kernelspec": {
   "display_name": "Python 3",
   "language": "python",
   "name": "python3"
  },
  "language_info": {
   "codemirror_mode": {
    "name": "ipython",
    "version": 3
   },
   "file_extension": ".py",
   "mimetype": "text/x-python",
   "name": "python",
   "nbconvert_exporter": "python",
   "pygments_lexer": "ipython3",
   "version": "3.6.6"
  }
 },
 "nbformat": 4,
 "nbformat_minor": 2
}
