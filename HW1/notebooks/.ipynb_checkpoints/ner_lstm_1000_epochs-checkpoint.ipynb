{
 "cells": [
  {
   "cell_type": "markdown",
   "metadata": {},
   "source": [
    "# NER with Bidirectional LSTM + CRF\n",
    "For Part 2, I use a Bidirectional LSTM to learn the word embeddings and use the output word vectors as input sequences to the CRF based model to predict the probability over the tag sequences.  "
   ]
  },
  {
   "cell_type": "code",
   "execution_count": 1,
   "metadata": {},
   "outputs": [],
   "source": [
    "import sys\n",
    "import pandas as pd\n",
    "import numpy as np\n",
    "import matplotlib.pyplot as plt\n",
    "import scipy.stats\n",
    "\n",
    "# sklearn imports\n",
    "import sklearn\n",
    "from sklearn.metrics import make_scorer\n",
    "# from sklearn.cross_validation import cross_val_score\n",
    "from sklearn.model_selection import RandomizedSearchCV, cross_val_predict\n",
    "\n",
    "# sklearn_crfsuite imports\n",
    "import sklearn_crfsuite\n",
    "from sklearn_crfsuite import scorers\n",
    "from sklearn_crfsuite import metrics\n",
    "\n",
    "# pytorch imports \n",
    "import torch\n",
    "import torch.autograd as autograd\n",
    "from torch import Tensor\n",
    "import torch.nn as nn\n",
    "import torch.optim as optim\n",
    "\n",
    "# set a random seed\n",
    "torch.manual_seed(10);\n",
    "\n",
    "# model saving and inspection\n",
    "import joblib\n",
    "import eli5\n",
    "\n",
    "# auto-reloads\n",
    "%reload_ext autoreload\n",
    "%autoreload 2"
   ]
  },
  {
   "cell_type": "code",
   "execution_count": 2,
   "metadata": {},
   "outputs": [
    {
     "name": "stdout",
     "output_type": "stream",
     "text": [
      "sklearn version: 0.20.0\n",
      "pytorch version: 0.4.1\n"
     ]
    }
   ],
   "source": [
    "print(f\"sklearn version: {sklearn.__version__}\")\n",
    "print(f\"pytorch version: {torch.__version__}\")\n",
    "# make sure we are using pytorch > 0.4.0"
   ]
  },
  {
   "cell_type": "code",
   "execution_count": 3,
   "metadata": {},
   "outputs": [
    {
     "name": "stdout",
     "output_type": "stream",
     "text": [
      "['', '/home/hayley/miniconda3/envs/fastai/lib/python36.zip', '/home/hayley/miniconda3/envs/fastai/lib/python3.6', '/home/hayley/miniconda3/envs/fastai/lib/python3.6/lib-dynload', '/home/hayley/miniconda3/envs/fastai/lib/python3.6/site-packages', '/home/hayley/miniconda3/envs/fastai/lib/python3.6/site-packages/defusedxml-0.5.0-py3.6.egg', '/home/hayley/miniconda3/envs/fastai/lib/python3.6/site-packages/IPython/extensions', '/home/hayley/.ipython']\n"
     ]
    }
   ],
   "source": [
    "print(sys.path)\n",
    "if \"..\" not in sys.path:\n",
    "    sys.path.insert(0, \"..\")"
   ]
  },
  {
   "cell_type": "code",
   "execution_count": 4,
   "metadata": {},
   "outputs": [
    {
     "name": "stdout",
     "output_type": "stream",
     "text": [
      "['..', '', '/home/hayley/miniconda3/envs/fastai/lib/python36.zip', '/home/hayley/miniconda3/envs/fastai/lib/python3.6', '/home/hayley/miniconda3/envs/fastai/lib/python3.6/lib-dynload', '/home/hayley/miniconda3/envs/fastai/lib/python3.6/site-packages', '/home/hayley/miniconda3/envs/fastai/lib/python3.6/site-packages/defusedxml-0.5.0-py3.6.egg', '/home/hayley/miniconda3/envs/fastai/lib/python3.6/site-packages/IPython/extensions', '/home/hayley/.ipython']\n"
     ]
    }
   ],
   "source": [
    "print(sys.path)"
   ]
  },
  {
   "cell_type": "code",
   "execution_count": null,
   "metadata": {},
   "outputs": [],
   "source": [
    "pwd"
   ]
  },
  {
   "cell_type": "code",
   "execution_count": null,
   "metadata": {},
   "outputs": [],
   "source": []
  },
  {
   "cell_type": "markdown",
   "metadata": {},
   "source": [
    "## Load data"
   ]
  },
  {
   "cell_type": "code",
   "execution_count": 6,
   "metadata": {},
   "outputs": [],
   "source": [
    "from utils import data_converter, conlleval"
   ]
  },
  {
   "cell_type": "code",
   "execution_count": 7,
   "metadata": {},
   "outputs": [],
   "source": [
    "# train_data_iob = data_converter.read_conll('../data/eng.train')[1:] #ignore header\n",
    "train_data_bio = data_converter.read_conll('../utils/train.bio')[1:] #ignore header\n",
    "dev_data_bio = data_converter.read_conll('../utils/testa.bio')[1:]\n",
    "test_data = data_converter.read_conll('../data/eng.testb')[1:]"
   ]
  },
  {
   "cell_type": "markdown",
   "metadata": {},
   "source": [
    "## First, let's insepct the dataset "
   ]
  },
  {
   "cell_type": "code",
   "execution_count": 8,
   "metadata": {},
   "outputs": [
    {
     "name": "stdout",
     "output_type": "stream",
     "text": [
      "==================================================\n",
      "train data: sentence 1\n",
      "[['EU', 'NNP', 'I-NP', 'I-ORG', 'B-ORG'], ['rejects', 'VBZ', 'I-VP', 'O', 'O'], ['German', 'JJ', 'I-NP', 'I-MISC', 'B-MISC'], ['call', 'NN', 'I-NP', 'O', 'O'], ['to', 'TO', 'I-VP', 'O', 'O'], ['boycott', 'VB', 'I-VP', 'O', 'O'], ['British', 'JJ', 'I-NP', 'I-MISC', 'B-MISC'], ['lamb', 'NN', 'I-NP', 'O', 'O'], ['.', '.', 'O', 'O', 'O']]\n",
      "==================================================\n",
      "dev data: sentence 1\n",
      "[['CRICKET', 'NNP', 'I-NP', 'O', 'O'], ['-', ':', 'O', 'O', 'O'], ['LEICESTERSHIRE', 'NNP', 'I-NP', 'I-ORG', 'B-ORG'], ['TAKE', 'NNP', 'I-NP', 'O', 'O'], ['OVER', 'IN', 'I-PP', 'O', 'O'], ['AT', 'NNP', 'I-NP', 'O', 'O'], ['TOP', 'NNP', 'I-NP', 'O', 'O'], ['AFTER', 'NNP', 'I-NP', 'O', 'O'], ['INNINGS', 'NNP', 'I-NP', 'O', 'O'], ['VICTORY', 'NN', 'I-NP', 'O', 'O'], ['.', '.', 'O', 'O', 'O']]\n",
      "==================================================\n",
      "test data: sentence 1\n",
      "[['SOCCER', 'NN', 'I-NP'], ['-', ':', 'O'], ['JAPAN', 'NNP', 'I-NP'], ['GET', 'VB', 'I-VP'], ['LUCKY', 'NNP', 'I-NP'], ['WIN', 'NNP', 'I-NP'], [',', ',', 'O'], ['CHINA', 'NNP', 'I-NP'], ['IN', 'IN', 'I-PP'], ['SURPRISE', 'DT', 'I-NP'], ['DEFEAT', 'NN', 'I-NP'], ['.', '.', 'O']]\n"
     ]
    }
   ],
   "source": [
    "# print(train_data_iob[0])\n",
    "print(\"=\"*50)\n",
    "print(\"train data: sentence 1\")\n",
    "print(train_data_bio[0])\n",
    "print(\"=\"*50)\n",
    "print(\"dev data: sentence 1\")\n",
    "print(dev_data_bio[0])\n",
    "print(\"=\"*50)\n",
    "print(\"test data: sentence 1\")\n",
    "print(test_data[0])"
   ]
  },
  {
   "cell_type": "markdown",
   "metadata": {},
   "source": [
    "Unlike the CRF models, we don't need to hand-engineer the features for our word representation. However, the LSTM model we are going to use from Keras requires equal-length input sentences. In order to choose a reasonable length of a sentence, let's take a look at the distribution of the word-counts in our training dataset. "
   ]
  },
  {
   "cell_type": "code",
   "execution_count": 9,
   "metadata": {},
   "outputs": [
    {
     "name": "stdout",
     "output_type": "stream",
     "text": [
      "Avg. sentence length: 13.651117784451118 words\n"
     ]
    },
    {
     "data": {
      "image/png": "[encoded data removed]",
      "text/plain": [
       "<Figure size 1080x1080 with 1 Axes>"
      ]
     },
     "metadata": {
      "needs_background": "light"
     },
     "output_type": "display_data"
    }
   ],
   "source": [
    "# sentence lengths\n",
    "lengths = [len(sent) for sent in train_data_bio]\n",
    "f, ax = plt.subplots(figsize=(15,15))\n",
    "ax.scatter(range(len(train_data_bio)), lengths)\n",
    "ax.set_xlabel('sentence index')\n",
    "ax.set_ylabel('count')\n",
    "ax.set_title('Number of tokens in each sentence')\n",
    "print(f\"Avg. sentence length: {np.mean(lengths)} words\")"
   ]
  },
  {
   "cell_type": "markdown",
   "metadata": {},
   "source": [
    "Better to visualize this as a histogram. X-axis is a word count and Y-axis is the frequency of each word-count."
   ]
  },
  {
   "cell_type": "code",
   "execution_count": 10,
   "metadata": {},
   "outputs": [
    {
     "data": {
      "image/png": "[encoded data removed]",
      "text/plain": [
       "<Figure size 1080x1080 with 1 Axes>"
      ]
     },
     "metadata": {
      "needs_background": "light"
     },
     "output_type": "display_data"
    }
   ],
   "source": [
    "f,ax = plt.subplots(figsize=(15,15))\n",
    "ax.hist(lengths, bins=50)\n",
    "ax.set_xlabel('word count')\n",
    "ax.set_ylabel('frequency')\n",
    "ax.set_title('word-count frequency in each sentence');"
   ]
  },
  {
   "cell_type": "markdown",
   "metadata": {},
   "source": [
    "So, 50 seems to be a reasonable choice to pad our sentences. "
   ]
  },
  {
   "cell_type": "markdown",
   "metadata": {},
   "source": [
    "### Pandas Dataframe for easier data inspection"
   ]
  },
  {
   "cell_type": "code",
   "execution_count": 11,
   "metadata": {},
   "outputs": [],
   "source": [
    "train_df_iob = pd.read_csv('../data/eng.train', delimiter=' ')\n",
    "train_df = pd.read_csv('../utils/train.bio', delimiter=' ')\n",
    "dev_df = pd.read_csv('../utils/testa.bio', delimiter=' ')"
   ]
  },
  {
   "cell_type": "markdown",
   "metadata": {},
   "source": [
    "Change the column names to something more meaningful."
   ]
  },
  {
   "cell_type": "code",
   "execution_count": 12,
   "metadata": {},
   "outputs": [
    {
     "name": "stdout",
     "output_type": "stream",
     "text": [
      "{'-DOCSTART-': 'token', '-X-': 'pos', 'O': 'chunk_tag', 'O.1': 'tag_ibo', 'O.2': 'tag_bio'}\n"
     ]
    }
   ],
   "source": [
    "new_column = ['token', 'pos', 'chunk_tag', 'tag_ibo', 'tag_bio']\n",
    "rename_dict = dict([kv for kv in zip(dev_df.columns, new_column)])\n",
    "# do not to run this more than once (it will override the key values)\n",
    "print(rename_dict)"
   ]
  },
  {
   "cell_type": "code",
   "execution_count": 13,
   "metadata": {},
   "outputs": [],
   "source": [
    "train_df.rename(rename_dict, axis='columns', inplace=True)\n",
    "dev_df.rename(rename_dict, axis='columns', inplace=True)"
   ]
  },
  {
   "cell_type": "code",
   "execution_count": 14,
   "metadata": {},
   "outputs": [
    {
     "name": "stdout",
     "output_type": "stream",
     "text": [
      "train dataset\n",
      "     token  pos chunk_tag tag_ibo tag_bio\n",
      "0       EU  NNP      I-NP   I-ORG   B-ORG\n",
      "1  rejects  VBZ      I-VP       O       O\n",
      "2   German   JJ      I-NP  I-MISC  B-MISC\n",
      "3     call   NN      I-NP       O       O\n",
      "4       to   TO      I-VP       O       O\n",
      "5  boycott   VB      I-VP       O       O\n",
      "6  British   JJ      I-NP  I-MISC  B-MISC\n",
      "7     lamb   NN      I-NP       O       O\n",
      "8        .    .         O       O       O\n",
      "9    Peter  NNP      I-NP   I-PER   B-PER\n",
      "==================================================\n",
      "dev dataset\n",
      "            token  pos chunk_tag tag_ibo tag_bio\n",
      "0         CRICKET  NNP      I-NP       O       O\n",
      "1               -    :         O       O       O\n",
      "2  LEICESTERSHIRE  NNP      I-NP   I-ORG   B-ORG\n",
      "3            TAKE  NNP      I-NP       O       O\n",
      "4            OVER   IN      I-PP       O       O\n",
      "5              AT  NNP      I-NP       O       O\n",
      "6             TOP  NNP      I-NP       O       O\n",
      "7           AFTER  NNP      I-NP       O       O\n",
      "8         INNINGS  NNP      I-NP       O       O\n",
      "9         VICTORY   NN      I-NP       O       O\n"
     ]
    }
   ],
   "source": [
    "print(\"train dataset\")\n",
    "print(train_df.head(10))\n",
    "print(\"=\"*50)\n",
    "print(\"dev dataset\")\n",
    "print(dev_df.head(10))"
   ]
  },
  {
   "cell_type": "markdown",
   "metadata": {},
   "source": [
    "### Create index dictionaries for word to index and tag to index lookups"
   ]
  },
  {
   "cell_type": "code",
   "execution_count": 15,
   "metadata": {},
   "outputs": [],
   "source": [
    "# Defind START AND STOP TAGS\n",
    "START_TAG = '<START>'\n",
    "STOP_TAG = '<STOP>'"
   ]
  },
  {
   "cell_type": "code",
   "execution_count": 16,
   "metadata": {},
   "outputs": [],
   "source": [
    "word2idx = {}\n",
    "tag2idx = {}\n",
    "iw = 0; it = 0 #conunters\n",
    "for s in train_data_bio:\n",
    "    for (word ,pos,*_, tag) in s:\n",
    "        if word in word2idx:\n",
    "            continue\n",
    "        else:\n",
    "            word2idx[word] = iw\n",
    "            iw += 1\n",
    "        if tag in tag2idx:\n",
    "            continue\n",
    "        else:\n",
    "            tag2idx[tag] = it\n",
    "            it += 1\n",
    "# Add START_TAG and STOP_TAG to tag2idx\n",
    "temp_n = len(tag2idx)\n",
    "tag2idx.update( {START_TAG:temp_n,\n",
    "                 STOP_TAG:temp_n+1} )"
   ]
  },
  {
   "cell_type": "code",
   "execution_count": 17,
   "metadata": {},
   "outputs": [],
   "source": [
    "# Idx to word lookup\n",
    "idx2word = {idx:w for (w,idx) in word2idx.items()}"
   ]
  },
  {
   "cell_type": "code",
   "execution_count": 18,
   "metadata": {},
   "outputs": [
    {
     "name": "stdout",
     "output_type": "stream",
     "text": [
      "23624\n",
      "11\n",
      "{'B-ORG': 0, 'O': 1, 'B-MISC': 2, 'B-PER': 3, 'I-PER': 4, 'B-LOC': 5, 'I-ORG': 6, 'I-MISC': 7, 'I-LOC': 8, '<START>': 9, '<STOP>': 10}\n"
     ]
    }
   ],
   "source": [
    "print(len(word2idx))\n",
    "print(len(tag2idx))\n",
    "print(tag2idx)"
   ]
  },
  {
   "cell_type": "code",
   "execution_count": 19,
   "metadata": {},
   "outputs": [
    {
     "name": "stdout",
     "output_type": "stream",
     "text": [
      "German: 2\n",
      "2: German\n",
      "number of tags: 11\n",
      "B-ORG index: 0\n",
      "START_TAG: 9\n",
      "STOP_TAG: 10\n",
      "================================================================================\n",
      "{'B-ORG': 0, 'O': 1, 'B-MISC': 2, 'B-PER': 3, 'I-PER': 4, 'B-LOC': 5, 'I-ORG': 6, 'I-MISC': 7, 'I-LOC': 8, '<START>': 9, '<STOP>': 10}\n"
     ]
    }
   ],
   "source": [
    "# Let's test these dictionaries\n",
    "print(f\"German: {word2idx['German']}\")\n",
    "print(f\"2: {idx2word[2]}\")\n",
    "print(f\"number of tags: {len(tag2idx)}\")\n",
    "print(f\"B-ORG index: {tag2idx['B-ORG']}\")\n",
    "print(f\"START_TAG: {tag2idx[START_TAG]}\")\n",
    "print(f\"STOP_TAG: {tag2idx[STOP_TAG]}\")\n",
    "\n",
    "print(\"=\"*80)\n",
    "print(tag2idx)"
   ]
  },
  {
   "cell_type": "markdown",
   "metadata": {},
   "source": [
    "Now we map each word in the sentences to an index in our dictionary, and then we pad each sentence to length $L=50$."
   ]
  },
  {
   "cell_type": "markdown",
   "metadata": {},
   "source": [
    "### Torch playground\n",
    "[todo] Remove it before submission"
   ]
  },
  {
   "cell_type": "code",
   "execution_count": 20,
   "metadata": {},
   "outputs": [],
   "source": [
    "t = torch.rand(2,2)"
   ]
  },
  {
   "cell_type": "code",
   "execution_count": 21,
   "metadata": {},
   "outputs": [
    {
     "name": "stdout",
     "output_type": "stream",
     "text": [
      "tensor([[0.4581, 0.4829, 0.3125, 0.6150]])\n",
      "max: 0.6150216460227966, argmax: 3\n"
     ]
    }
   ],
   "source": [
    "t = t.view(1,-1)\n",
    "print(t)\n",
    "m, idx = torch.max(t, 1)\n",
    "\n",
    "print(f\"max: {m.item()}, argmax: {idx.item()}\")\n"
   ]
  },
  {
   "cell_type": "code",
   "execution_count": 22,
   "metadata": {},
   "outputs": [
    {
     "data": {
      "text/plain": [
       "tensor([[100000., 100000., 100000., 100000.]])"
      ]
     },
     "execution_count": 22,
     "metadata": {},
     "output_type": "execute_result"
    }
   ],
   "source": [
    "t.fill_(1e5)"
   ]
  },
  {
   "cell_type": "code",
   "execution_count": 23,
   "metadata": {},
   "outputs": [
    {
     "data": {
      "text/plain": [
       "tensor([[10., 10.]])"
      ]
     },
     "execution_count": 23,
     "metadata": {},
     "output_type": "execute_result"
    }
   ],
   "source": [
    "Tensor(1,2).fill_(10)"
   ]
  },
  {
   "cell_type": "markdown",
   "metadata": {},
   "source": [
    "## Helper functions\n",
    "Let's define some helper functions for the Viterbi algorithm and the input sentence processing."
   ]
  },
  {
   "cell_type": "code",
   "execution_count": 24,
   "metadata": {},
   "outputs": [],
   "source": [
    "# numerically stable log-sum computation for Viterbi forward\n",
    "def log_sum_exp(vec):\n",
    "    vec = vec.view(1,-1)\n",
    "    max_val, _ = torch.max(vec, 1)\n",
    "    return max_val + torch.log(torch.sum(torch.exp(vec - max_val)))"
   ]
  },
  {
   "cell_type": "markdown",
   "metadata": {},
   "source": [
    "Simple test on log_sum_exp function"
   ]
  },
  {
   "cell_type": "code",
   "execution_count": 25,
   "metadata": {},
   "outputs": [
    {
     "name": "stdout",
     "output_type": "stream",
     "text": [
      "t: tensor([[1000000., 1000000., 1000000., 1000000.]])\n",
      "logsumexp: tensor([1000001.3750])\n",
      "\n",
      "t: tensor([[1.0000e-10, 1.0000e-10, 1.0000e-10, 1.0000e-10]])\n",
      "logsumexp: tensor([1.3863])\n"
     ]
    }
   ],
   "source": [
    "def test_logsumexp():\n",
    "    t = torch.rand(2,2).view(1,-1).fill_(1e6)\n",
    "    print(f\"t: {t}\")\n",
    "    print(f\"logsumexp: {log_sum_exp(t)}\")\n",
    "    print(f\"\\nt: {t.fill_(1e-10)}\")\n",
    "    print(f\"logsumexp: {log_sum_exp(t)}\")\n",
    "test_logsumexp()"
   ]
  },
  {
   "cell_type": "code",
   "execution_count": 26,
   "metadata": {},
   "outputs": [],
   "source": [
    "# Helper function to convert words and tags to corresponding indices\n",
    "def prepare_sentence(sentence, word2idx):\n",
    "    \"\"\"\n",
    "    Returns a tensor of word indices given a list of words\n",
    "    Args:\n",
    "    - sentence (list): a list of word_infos. Each word_info is a tuple of (word, ..., label)\n",
    "    - word2idx (dict): a  dictionary mapping each word in the vocab\n",
    "                        to a unique index\n",
    "    Returns:\n",
    "    - indices (torch.LongTensor): a tensor of word indices\n",
    "    - tags: (torch.LongTensor): a tensor of tag indices\n",
    "    \"\"\"\n",
    "    indices = []\n",
    "    tags = []\n",
    "    for word_info in sentence:\n",
    "        w,*_,t = word_info\n",
    "        indices.append(word2idx[w])\n",
    "        tags.append(tag2idx[t])\n",
    "\n",
    "    return torch.tensor(indices, dtype=torch.long), torch.tensor(tags, dtype=torch.long)"
   ]
  },
  {
   "cell_type": "code",
   "execution_count": 27,
   "metadata": {},
   "outputs": [
    {
     "name": "stdout",
     "output_type": "stream",
     "text": [
      "word_indices: \n",
      "tensor([0, 1, 2, 3, 4, 5, 6, 7, 8])\n",
      "tag_indices: \n",
      "tensor([0, 1, 2, 1, 1, 1, 2, 1, 1])\n"
     ]
    }
   ],
   "source": [
    "def test_prepare_sentence():\n",
    "    test_sent = train_data_bio[0]\n",
    "    word_indices, tag_indices = prepare_sentence(test_sent, word2idx)\n",
    "    print(f\"word_indices: \\n{word_indices}\")\n",
    "    print(f\"tag_indices: \\n{tag_indices}\")\n",
    "test_prepare_sentence()"
   ]
  },
  {
   "cell_type": "markdown",
   "metadata": {},
   "source": [
    "### Create BiLSTM CRF model\n",
    "Now, let's define our main model using Bidirectional LSTM for word->feature extraction \n",
    "and to learn the output probability over the tag space using CRF based model.\n",
    "\n",
    "The viterbi forward and backtracing were mostly taken from [this tutorial](https://pytorch.org/tutorials/beginner/nlp/advanced_tutorial.html)."
   ]
  },
  {
   "cell_type": "code",
   "execution_count": 28,
   "metadata": {},
   "outputs": [],
   "source": [
    "class BILSTM_CRF(nn.Module):\n",
    "    def __init__(self, dim_embedding, dim_hidden, vocab_size, tag2idx,\n",
    "                 n_lstm_layers=1):\n",
    "        super(BILSTM_CRF, self).__init__()\n",
    "        self.dim_embedding = dim_embedding\n",
    "        self.dim_hidden = dim_hidden\n",
    "        self.n_lstm_layers = n_lstm_layers\n",
    "        self.vocab_size = vocab_size\n",
    "        self.tag2idx = tag2idx\n",
    "        self.output_size = len(tag2idx) #n_tags\n",
    "        \n",
    "        self.embedding = nn.Embedding(vocab_size, dim_embedding)\n",
    "        self.lstm = nn.LSTM(dim_embedding, dim_hidden//2,\n",
    "                            num_layers=n_lstm_layers, bidirectional=True)\n",
    "        \n",
    "        # output of biLSTM to tag\n",
    "        self.hidden2tag = nn.Linear(self.dim_hidden, self.output_size)\n",
    "        \n",
    "        # Transition matrix for CRF\n",
    "        ## T(i,j) = log_prob(tag_j -> tag_i). Note **from** j **to** i\n",
    "        self.transitions = nn.Parameter(torch.randn(self.output_size, self.output_size))\n",
    "        ## Never transit tag_i -> START_TAG and END_TAG -> tag_i\n",
    "        self.transitions.data[tag2idx[START_TAG], :] = -1e6\n",
    "        self.transitions.data[:, tag2idx[STOP_TAG],] = -1e6\n",
    "        \n",
    "        # Initial hidden layers\n",
    "        self.hidden = self.init_hidden()\n",
    "    \n",
    "    def init_hidden(self):\n",
    "        return [torch.randn(2,1,self.dim_hidden//2), \n",
    "                torch.randn(2,1,self.dim_hidden//2)]\n",
    "    def _viterbi_forward(self, feats):\n",
    "        \"\"\"\n",
    "        Args:\n",
    "        - feats (tensor): output feature vector from LSTM layer\n",
    "        \"\"\"\n",
    "        # Forward pass to compute the partition function\n",
    "        init_alphas = torch.full((1, self.output_size), -1e-6)\n",
    "        \n",
    "        # Fill in the entries for START_TAG\n",
    "        init_alphas[0][self.tag2idx[START_TAG]] = 0.0\n",
    "        \n",
    "        # For automatic backprop\n",
    "        forward_var = init_alphas\n",
    "        \n",
    "        # Iterate through the sequence\n",
    "        for feat in feats:\n",
    "            alphas = []\n",
    "            for tag in range(self.output_size):\n",
    "                emit_score = torch.full((1,self.output_size), feat[tag].item())\n",
    "                \n",
    "                # jth entry of trans_score is the score of transitioning from j\n",
    "                # to tag\n",
    "                trans_score = self.transitions[tag].view(1,-1)\n",
    "                \n",
    "                tag_var = forward_var + emit_score + trans_score\n",
    "                alphas.append(log_sum_exp(tag_var).view(1))\n",
    "            forward_var = torch.cat(alphas).view(1,-1)\n",
    "        terminal_var = forward_var + self.transitions[self.tag2idx[STOP_TAG]]\n",
    "        alpha = log_sum_exp(terminal_var)\n",
    "        return alpha\n",
    "    \n",
    "    def _get_lstm_features(self, sentence):\n",
    "        \"\"\"\n",
    "        Args:\n",
    "        - sentence (torch.LongTensor): a 1D LongTensor of word indices\n",
    "        \"\"\"\n",
    "        self.hidden = self.init_hidden()\n",
    "        embedding = self.embedding(sentence).view(len(sentence), 1, -1)\n",
    "        \n",
    "        # Forward through LSTM\n",
    "        lstm_out, self.hidden = self.lstm(embedding, self.hidden)\n",
    "        lstm_out = lstm_out.view(len(sentence), self.dim_hidden)\n",
    "        \n",
    "        # Forward the feature vector from LSTM to output activation\n",
    "        # through another linear layer\n",
    "        lstm_feats = self.hidden2tag(lstm_out)\n",
    "        return lstm_feats\n",
    "    \n",
    "    def _score_sentence(self, feats, tags):\n",
    "        # Returns the score of the input tag sequence\n",
    "        score = torch.zeros(1)\n",
    "        \n",
    "        # Prepend the START_TAG\n",
    "        tags = torch.cat([torch.tensor([self.tag2idx[START_TAG]], dtype=torch.long),\n",
    "                          tags])\n",
    "        \n",
    "        for i, feat in enumerate(feats):\n",
    "            score += self.transitions[tags[i+1], tags[i]] + feat[tags[i+1]]\n",
    "      \n",
    "        # Lastly, add the transition score to the STOP_TAG\n",
    "        score += self.transitions[self.tag2idx[STOP_TAG], tags[-1]]\n",
    "        return score\n",
    "    \n",
    "    def _viterbi_decode(self, feats):\n",
    "        backpointers = []\n",
    "        \n",
    "        # Initialize the viterbi vars in log domain\n",
    "        init_vvars = torch.full( (1, self.output_size), -1e6 )\n",
    "        init_vvars[0][self.tag2idx[START_TAG]] = 0 # initial starting point\n",
    "        \n",
    "        # Forward viterbi algorithm\n",
    "        forward_var = init_vvars\n",
    "        for feat in feats:\n",
    "            \n",
    "            bptrs = [] # backpointers for this time step\n",
    "            vvars = [] # viberbi vars for this time step\n",
    "            for tag in range(self.output_size):\n",
    "                tag_var = forward_var + self.transitions[tag]\n",
    "                _, best_tid = torch.max(tag_var,1)\n",
    "                best_tid = best_tid.item()\n",
    "                bptrs.append(best_tid)\n",
    "                vvars.append(tag_var[0][best_tid].view(1))\n",
    "            # Add in the emission scores \n",
    "            forward_var = (torch.cat(vvars) + feat).view(1,-1)\n",
    "            backpointers.append(bptrs)\n",
    "            \n",
    "        # Add transition to STOP_TAG\n",
    "        terminal_var = forward_var + self.transitions[self.tag2idx[STOP_TAG]]\n",
    "        _, best_tid =  torch.max(terminal_var,1)\n",
    "        best_tid = best_tid.item()\n",
    "        path_score = terminal_var[0][best_tid]\n",
    "        \n",
    "        # Backtrace the backpointers to find the best path\n",
    "        best_path = [best_tid]\n",
    "        for bptrs in reversed(backpointers):\n",
    "            best_tid = bptrs[best_tid]\n",
    "            best_path.append(best_tid)\n",
    "        \n",
    "        # Remove the START_TAG \n",
    "        start = best_path.pop()\n",
    "        assert (start == self.tag2idx[START_TAG])\n",
    "        \n",
    "        # Reverse the path order\n",
    "        best_path.reverse()\n",
    "        \n",
    "        return path_score, best_path\n",
    "\n",
    "    def neg_log_likelihood(self, sentence, tags):\n",
    "        # Computes negative log likelihood of having tags given the sentence\n",
    "        feats = self._get_lstm_features(sentence)\n",
    "        forward_score = self._viterbi_forward(feats)\n",
    "        score = self._score_sentence(feats, tags)\n",
    "        return forward_score - score\n",
    "    \n",
    "    def forward(self, sentence):\n",
    "        # Returns the best path score and the best path, given the setence\n",
    "        \n",
    "        # features from the BILSTM\n",
    "        lstm_feats = self._get_lstm_features(sentence)\n",
    "        \n",
    "        # Find the best path and its score, given the input sentence\n",
    "        best_score, tag_seq = self._viterbi_decode(lstm_feats)\n",
    "        return best_score, tag_seq"
   ]
  },
  {
   "cell_type": "markdown",
   "metadata": {},
   "source": [
    "## Train the model"
   ]
  },
  {
   "cell_type": "code",
   "execution_count": 30,
   "metadata": {},
   "outputs": [],
   "source": []
  },
  {
   "cell_type": "code",
   "execution_count": 32,
   "metadata": {},
   "outputs": [
    {
     "name": "stdout",
     "output_type": "stream",
     "text": [
      "Sentence 0:  tensor([0, 1, 2, 3, 4, 5, 6, 7, 8])\n",
      "GT tag:  tensor([0, 1, 2, 1, 1, 1, 2, 1, 1])\n",
      "==================================================\n",
      "Pretrain prediciton on sentence 0\n",
      "(tensor(15.5629), [5, 4, 0, 5, 4, 0, 5, 4, 4])\n"
     ]
    }
   ],
   "source": [
    "# Initialize the model\n",
    "\n",
    "# Set hyperparams\n",
    "DIM_EMBEDDING = 5\n",
    "DIM_HIDDEN = 4\n",
    "LR = 0.01\n",
    "N_EPOCH = 2000\n",
    "\n",
    "model = BILSTM_CRF(dim_embedding=DIM_EMBEDDING, \n",
    "                   dim_hidden=DIM_HIDDEN,\n",
    "                   vocab_size=len(word2idx),\n",
    "                   tag2idx=tag2idx)\n",
    "optimizer = optim.Adam(model.parameters(), lr=LR)\n",
    "\n",
    "# Initial prediciton before training\n",
    "with torch.no_grad():\n",
    "    precheck_sent, precheck_tag = prepare_sentence(train_data_bio[0], word2idx)\n",
    "    print(\"Sentence 0: \", precheck_sent)\n",
    "    print(\"GT tag: \", precheck_tag)\n",
    "    print(\"=\"*50)\n",
    "    print(\"Pretrain prediciton on sentence 0\")\n",
    "    print(model(precheck_sent))"
   ]
  },
  {
   "cell_type": "code",
   "execution_count": null,
   "metadata": {},
   "outputs": [
    {
     "name": "stdout",
     "output_type": "stream",
     "text": [
      "epoch: 0\n"
     ]
    }
   ],
   "source": [
    "%%time\n",
    "# Training loop\n",
    "for epoch in range(N_EPOCH):\n",
    "    if epoch//100 == 0:\n",
    "        print(f\"epoch: {epoch}\")\n",
    "    for _sent in train_data_bio:\n",
    "        \n",
    "        # Get input sentence and tags\n",
    "        sent, tags = prepare_sentence(_sent, word2idx)\n",
    "        \n",
    "        # Make sure no gradient lingering from previous iters\n",
    "        model.zero_grad()\n",
    "        \n",
    "        # Forward pass\n",
    "        loss = model.neg_log_likelihood(sent, tags)\n",
    "        \n",
    "        # Update the weights\n",
    "        loss.backward()\n",
    "        optimizer.step()     \n",
    "        \n",
    "        # Save at every 100 epochs\n",
    "        if epoch//100 == 0:\n",
    "            joblib.dump(model, f\"../trained/my_bi_lstm_crf_epoch:{epoch}.sav\")"
   ]
  },
  {
   "cell_type": "code",
   "execution_count": null,
   "metadata": {},
   "outputs": [],
   "source": [
    "# Evaluate the predicitons after training\n",
    "with torch.no_grad():\n",
    "    sent0, tags0 = prepare_sentence(train_data_bio[0], word2idx)\n",
    "    print(\"Predicition after {N_EPOCH} epochs\")\n",
    "    print(\"GT: {tags0}\")\n",
    "    print(model(sent0))"
   ]
  },
  {
   "cell_type": "code",
   "execution_count": null,
   "metadata": {},
   "outputs": [],
   "source": [
    "# Save the model\n",
    "joblib.dump(model, '../trained/bilstm_crf_09_30_18_00_epoch:1000.sav')"
   ]
  },
  {
   "cell_type": "code",
   "execution_count": null,
   "metadata": {},
   "outputs": [],
   "source": []
  }
 ],
 "metadata": {
  "kernelspec": {
   "display_name": "Python 3",
   "language": "python",
   "name": "python3"
  },
  "language_info": {
   "codemirror_mode": {
    "name": "ipython",
    "version": 3
   },
   "file_extension": ".py",
   "mimetype": "text/x-python",
   "name": "python",
   "nbconvert_exporter": "python",
   "pygments_lexer": "ipython3",
   "version": "3.6.6"
  }
 },
 "nbformat": 4,
 "nbformat_minor": 2
}
