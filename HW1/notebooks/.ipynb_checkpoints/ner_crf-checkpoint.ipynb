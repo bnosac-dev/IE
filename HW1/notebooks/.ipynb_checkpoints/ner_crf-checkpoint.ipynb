{
 "cells": [
  {
   "cell_type": "code",
   "execution_count": 10,
   "metadata": {},
   "outputs": [],
   "source": [
    "import sys\n",
    "import pandas as pd\n",
    "import numpy as np\n",
    "from itertools import chain\n",
    "\n",
    "import nltk\n",
    "import sklearn\n",
    "import scipy.stats\n",
    "from sklearn.metrics import make_scorer\n",
    "# from sklearn.cross_validation import cross_val_score\n",
    "from sklearn.grid_search import RandomizedSearchCV\n",
    "\n",
    "import sklearn_crfsuite\n",
    "from sklearn_crfsuite import scorers\n",
    "from sklearn_crfsuite import metrics"
   ]
  },
  {
   "cell_type": "code",
   "execution_count": 2,
   "metadata": {},
   "outputs": [
    {
     "data": {
      "text/plain": [
       "['',\n",
       " '/Users/hayley/Workspace/Class/IE/HW1/notebooks',\n",
       " '/',\n",
       " '/Users/hayley/miniconda3/envs/fastai-cpu/lib/python36.zip',\n",
       " '/Users/hayley/miniconda3/envs/fastai-cpu/lib/python3.6',\n",
       " '/Users/hayley/miniconda3/envs/fastai-cpu/lib/python3.6/lib-dynload',\n",
       " '/Users/hayley/miniconda3/envs/fastai-cpu/lib/python3.6/site-packages',\n",
       " '/Users/hayley/miniconda3/envs/fastai-cpu/lib/python3.6/site-packages/IPython/extensions',\n",
       " '/Users/hayley/.ipython']"
      ]
     },
     "execution_count": 2,
     "metadata": {},
     "output_type": "execute_result"
    }
   ],
   "source": [
    "sys.path"
   ]
  },
  {
   "cell_type": "code",
   "execution_count": 3,
   "metadata": {},
   "outputs": [],
   "source": [
    "sys.path.insert(0, \"..\")"
   ]
  },
  {
   "cell_type": "code",
   "execution_count": 8,
   "metadata": {},
   "outputs": [],
   "source": [
    "from utils import data_converter, conlleval"
   ]
  },
  {
   "cell_type": "markdown",
   "metadata": {},
   "source": [
    "Load train data in IOB scheme and load train and dev data after changing it to the BIO scheme."
   ]
  },
  {
   "cell_type": "code",
   "execution_count": 145,
   "metadata": {},
   "outputs": [],
   "source": [
    "# train_data_iob = data_converter.read_conll('../data/eng.train')[1:] #ignore header\n",
    "train_data_bio = data_converter.read_conll('../utils/train.bio')[1:] #ignore header\n",
    "dev_data_bio = data_converter.read_conll('../utils/testa.bio')[1:]\n",
    "test_data = data_converter.read_conll('../data/eng.testb')[1:]"
   ]
  },
  {
   "cell_type": "code",
   "execution_count": 147,
   "metadata": {},
   "outputs": [
    {
     "name": "stdout",
     "output_type": "stream",
     "text": [
      "==================================================\n",
      "train data\n",
      "[['EU', 'NNP', 'I-NP', 'I-ORG', 'B-ORG'], ['rejects', 'VBZ', 'I-VP', 'O', 'O'], ['German', 'JJ', 'I-NP', 'I-MISC', 'B-MISC'], ['call', 'NN', 'I-NP', 'O', 'O'], ['to', 'TO', 'I-VP', 'O', 'O'], ['boycott', 'VB', 'I-VP', 'O', 'O'], ['British', 'JJ', 'I-NP', 'I-MISC', 'B-MISC'], ['lamb', 'NN', 'I-NP', 'O', 'O'], ['.', '.', 'O', 'O', 'O']]\n",
      "==================================================\n",
      "dev data\n",
      "[['CRICKET', 'NNP', 'I-NP', 'O', 'O'], ['-', ':', 'O', 'O', 'O'], ['LEICESTERSHIRE', 'NNP', 'I-NP', 'I-ORG', 'B-ORG'], ['TAKE', 'NNP', 'I-NP', 'O', 'O'], ['OVER', 'IN', 'I-PP', 'O', 'O'], ['AT', 'NNP', 'I-NP', 'O', 'O'], ['TOP', 'NNP', 'I-NP', 'O', 'O'], ['AFTER', 'NNP', 'I-NP', 'O', 'O'], ['INNINGS', 'NNP', 'I-NP', 'O', 'O'], ['VICTORY', 'NN', 'I-NP', 'O', 'O'], ['.', '.', 'O', 'O', 'O']]\n",
      "==================================================\n",
      "test data\n",
      "[['SOCCER', 'NN', 'I-NP'], ['-', ':', 'O'], ['JAPAN', 'NNP', 'I-NP'], ['GET', 'VB', 'I-VP'], ['LUCKY', 'NNP', 'I-NP'], ['WIN', 'NNP', 'I-NP'], [',', ',', 'O'], ['CHINA', 'NNP', 'I-NP'], ['IN', 'IN', 'I-PP'], ['SURPRISE', 'DT', 'I-NP'], ['DEFEAT', 'NN', 'I-NP'], ['.', '.', 'O']]\n"
     ]
    }
   ],
   "source": [
    "# print(train_data_iob[0])\n",
    "print(\"=\"*50)\n",
    "print(\"train data\")\n",
    "print(train_data_bio[0])\n",
    "print(\"=\"*50)\n",
    "print(\"dev data\")\n",
    "print(dev_data_bio[0])\n",
    "print(\"=\"*50)\n",
    "print(\"test data\")\n",
    "print(test_data[0])"
   ]
  },
  {
   "cell_type": "code",
   "execution_count": 97,
   "metadata": {},
   "outputs": [
    {
     "name": "stdout",
     "output_type": "stream",
     "text": [
      "Avg. sentence length: 13.65027358868277 words\n"
     ]
    },
    {
     "data": {
      "image/png": "[encoded data removed]",
      "text/plain": [
       "<Figure size 432x288 with 1 Axes>"
      ]
     },
     "metadata": {},
     "output_type": "display_data"
    }
   ],
   "source": [
    "# sentence lengths\n",
    "lengths = [len(sent) for sent in train_data_bio]\n",
    "f, ax = plt.subplots()\n",
    "ax.scatter(range(len(train_data_bio)), lengths)\n",
    "print(f\"Avg. sentence length: {np.mean(lengths)} words\")"
   ]
  },
  {
   "cell_type": "code",
   "execution_count": 18,
   "metadata": {},
   "outputs": [],
   "source": [
    "train_df_iob = pd.read_csv('../data/eng.train', delimiter=' ')\n",
    "train_df = pd.read_csv('../utils/train.bio', delimiter=' ')\n",
    "dev_df = pd.read_csv('../utils/testa.bio', delimiter=' ')"
   ]
  },
  {
   "cell_type": "code",
   "execution_count": 24,
   "metadata": {},
   "outputs": [
    {
     "data": {
      "text/html": [
       "<div>\n",
       "<style scoped>\n",
       "    .dataframe tbody tr th:only-of-type {\n",
       "        vertical-align: middle;\n",
       "    }\n",
       "\n",
       "    .dataframe tbody tr th {\n",
       "        vertical-align: top;\n",
       "    }\n",
       "\n",
       "    .dataframe thead th {\n",
       "        text-align: right;\n",
       "    }\n",
       "</style>\n",
       "<table border=\"1\" class=\"dataframe\">\n",
       "  <thead>\n",
       "    <tr style=\"text-align: right;\">\n",
       "      <th></th>\n",
       "      <th>-DOCSTART-</th>\n",
       "      <th>-X-</th>\n",
       "      <th>O</th>\n",
       "      <th>O.1</th>\n",
       "      <th>O.2</th>\n",
       "    </tr>\n",
       "  </thead>\n",
       "  <tbody>\n",
       "    <tr>\n",
       "      <th>0</th>\n",
       "      <td>EU</td>\n",
       "      <td>NNP</td>\n",
       "      <td>I-NP</td>\n",
       "      <td>I-ORG</td>\n",
       "      <td>B-ORG</td>\n",
       "    </tr>\n",
       "    <tr>\n",
       "      <th>1</th>\n",
       "      <td>rejects</td>\n",
       "      <td>VBZ</td>\n",
       "      <td>I-VP</td>\n",
       "      <td>O</td>\n",
       "      <td>O</td>\n",
       "    </tr>\n",
       "    <tr>\n",
       "      <th>2</th>\n",
       "      <td>German</td>\n",
       "      <td>JJ</td>\n",
       "      <td>I-NP</td>\n",
       "      <td>I-MISC</td>\n",
       "      <td>B-MISC</td>\n",
       "    </tr>\n",
       "    <tr>\n",
       "      <th>3</th>\n",
       "      <td>call</td>\n",
       "      <td>NN</td>\n",
       "      <td>I-NP</td>\n",
       "      <td>O</td>\n",
       "      <td>O</td>\n",
       "    </tr>\n",
       "    <tr>\n",
       "      <th>4</th>\n",
       "      <td>to</td>\n",
       "      <td>TO</td>\n",
       "      <td>I-VP</td>\n",
       "      <td>O</td>\n",
       "      <td>O</td>\n",
       "    </tr>\n",
       "  </tbody>\n",
       "</table>\n",
       "</div>"
      ],
      "text/plain": [
       "  -DOCSTART-  -X-     O     O.1     O.2\n",
       "0         EU  NNP  I-NP   I-ORG   B-ORG\n",
       "1    rejects  VBZ  I-VP       O       O\n",
       "2     German   JJ  I-NP  I-MISC  B-MISC\n",
       "3       call   NN  I-NP       O       O\n",
       "4         to   TO  I-VP       O       O"
      ]
     },
     "execution_count": 24,
     "metadata": {},
     "output_type": "execute_result"
    }
   ],
   "source": [
    "train_df.head()"
   ]
  },
  {
   "cell_type": "code",
   "execution_count": 48,
   "metadata": {},
   "outputs": [
    {
     "data": {
      "text/html": [
       "<div>\n",
       "<style scoped>\n",
       "    .dataframe tbody tr th:only-of-type {\n",
       "        vertical-align: middle;\n",
       "    }\n",
       "\n",
       "    .dataframe tbody tr th {\n",
       "        vertical-align: top;\n",
       "    }\n",
       "\n",
       "    .dataframe thead th {\n",
       "        text-align: right;\n",
       "    }\n",
       "</style>\n",
       "<table border=\"1\" class=\"dataframe\">\n",
       "  <thead>\n",
       "    <tr style=\"text-align: right;\">\n",
       "      <th></th>\n",
       "      <th>-DOCSTART-</th>\n",
       "      <th>-X-</th>\n",
       "      <th>O</th>\n",
       "      <th>O.1</th>\n",
       "      <th>O.2</th>\n",
       "    </tr>\n",
       "  </thead>\n",
       "  <tbody>\n",
       "    <tr>\n",
       "      <th>0</th>\n",
       "      <td>CRICKET</td>\n",
       "      <td>NNP</td>\n",
       "      <td>I-NP</td>\n",
       "      <td>O</td>\n",
       "      <td>O</td>\n",
       "    </tr>\n",
       "    <tr>\n",
       "      <th>1</th>\n",
       "      <td>-</td>\n",
       "      <td>:</td>\n",
       "      <td>O</td>\n",
       "      <td>O</td>\n",
       "      <td>O</td>\n",
       "    </tr>\n",
       "    <tr>\n",
       "      <th>2</th>\n",
       "      <td>LEICESTERSHIRE</td>\n",
       "      <td>NNP</td>\n",
       "      <td>I-NP</td>\n",
       "      <td>I-ORG</td>\n",
       "      <td>B-ORG</td>\n",
       "    </tr>\n",
       "    <tr>\n",
       "      <th>3</th>\n",
       "      <td>TAKE</td>\n",
       "      <td>NNP</td>\n",
       "      <td>I-NP</td>\n",
       "      <td>O</td>\n",
       "      <td>O</td>\n",
       "    </tr>\n",
       "    <tr>\n",
       "      <th>4</th>\n",
       "      <td>OVER</td>\n",
       "      <td>IN</td>\n",
       "      <td>I-PP</td>\n",
       "      <td>O</td>\n",
       "      <td>O</td>\n",
       "    </tr>\n",
       "  </tbody>\n",
       "</table>\n",
       "</div>"
      ],
      "text/plain": [
       "       -DOCSTART-  -X-     O    O.1    O.2\n",
       "0         CRICKET  NNP  I-NP      O      O\n",
       "1               -    :     O      O      O\n",
       "2  LEICESTERSHIRE  NNP  I-NP  I-ORG  B-ORG\n",
       "3            TAKE  NNP  I-NP      O      O\n",
       "4            OVER   IN  I-PP      O      O"
      ]
     },
     "execution_count": 48,
     "metadata": {},
     "output_type": "execute_result"
    }
   ],
   "source": [
    "dev_df.head()"
   ]
  },
  {
   "cell_type": "markdown",
   "metadata": {},
   "source": [
    "Change the column names to something more meaningful."
   ]
  },
  {
   "cell_type": "code",
   "execution_count": 50,
   "metadata": {},
   "outputs": [],
   "source": [
    "new_column = ['token', 'pos', 'chunk_tag', 'tag_ibo', 'tag_bio']\n",
    "rename_dict = dict([kv for kv in zip(dev_df.columns, new_column)])\n",
    "# do not to run this more than once (it will override the key values)\n",
    "print(rename_dict)"
   ]
  },
  {
   "cell_type": "code",
   "execution_count": 51,
   "metadata": {},
   "outputs": [],
   "source": [
    "train_df.rename(rename_dict, axis='columns', inplace=True)\n",
    "dev_df.rename(rename_dict, axis='columns', inplace=True)"
   ]
  },
  {
   "cell_type": "code",
   "execution_count": 66,
   "metadata": {},
   "outputs": [
    {
     "name": "stdout",
     "output_type": "stream",
     "text": [
      "     token  pos chunk_tag tag_ibo tag_bio\n",
      "0       EU  NNP      I-NP   I-ORG   B-ORG\n",
      "1  rejects  VBZ      I-VP       O       O\n",
      "2   German   JJ      I-NP  I-MISC  B-MISC\n",
      "3     call   NN      I-NP       O       O\n",
      "4       to   TO      I-VP       O       O\n",
      "5  boycott   VB      I-VP       O       O\n",
      "6  British   JJ      I-NP  I-MISC  B-MISC\n",
      "7     lamb   NN      I-NP       O       O\n",
      "8        .    .         O       O       O\n",
      "9    Peter  NNP      I-NP   I-PER   B-PER\n",
      "==================================================\n",
      "            token  pos chunk_tag tag_ibo tag_bio\n",
      "0         CRICKET  NNP      I-NP       O       O\n",
      "1               -    :         O       O       O\n",
      "2  LEICESTERSHIRE  NNP      I-NP   I-ORG   B-ORG\n",
      "3            TAKE  NNP      I-NP       O       O\n",
      "4            OVER   IN      I-PP       O       O\n",
      "5              AT  NNP      I-NP       O       O\n",
      "6             TOP  NNP      I-NP       O       O\n",
      "7           AFTER  NNP      I-NP       O       O\n",
      "8         INNINGS  NNP      I-NP       O       O\n",
      "9         VICTORY   NN      I-NP       O       O\n"
     ]
    }
   ],
   "source": [
    "print(train_df.head(10))\n",
    "print(\"=\"*50)\n",
    "print(dev_df.head(10))"
   ]
  },
  {
   "cell_type": "code",
   "execution_count": 55,
   "metadata": {},
   "outputs": [],
   "source": [
    "train_y = train_df['tag_bio']\n",
    "dev_y = dev_df['tag_bio']"
   ]
  },
  {
   "cell_type": "code",
   "execution_count": 56,
   "metadata": {},
   "outputs": [
    {
     "data": {
      "text/plain": [
       "Index(['token', 'pos', 'chunk_tag', 'tag_ibo', 'tag_bio'], dtype='object')"
      ]
     },
     "execution_count": 56,
     "metadata": {},
     "output_type": "execute_result"
    }
   ],
   "source": [
    "train_df.columns"
   ]
  },
  {
   "cell_type": "code",
   "execution_count": 57,
   "metadata": {},
   "outputs": [
    {
     "name": "stdout",
     "output_type": "stream",
     "text": [
      "     token  pos\n",
      "0       EU  NNP\n",
      "1  rejects  VBZ\n",
      "2   German   JJ\n",
      "3     call   NN\n",
      "4       to   TO\n"
     ]
    }
   ],
   "source": [
    "X = train_df[['token', 'pos']]\n",
    "print(X.head())"
   ]
  },
  {
   "cell_type": "markdown",
   "metadata": {},
   "source": [
    "## Word to individual feature\n",
    "We represent a token/word as a feature vector using the following features:   \n",
    "word in lowercase, POS, suffix2, suffix3, word shape info, prev_word in lowercase, prev_word_POS, prev_word_shape, next_word in lowercase, next_word_POS, next_word_shape,\n",
    "location in the sentence (BOS, EOS)\n"
   ]
  },
  {
   "cell_type": "code",
   "execution_count": 69,
   "metadata": {},
   "outputs": [
    {
     "name": "stdout",
     "output_type": "stream",
     "text": [
      "1 2 [3, 4]\n"
     ]
    }
   ],
   "source": [
    "a = [1,2,3,4]\n",
    "b,c, *_ = a\n",
    "print (b,c, _)"
   ]
  },
  {
   "cell_type": "code",
   "execution_count": 116,
   "metadata": {},
   "outputs": [
    {
     "name": "stdout",
     "output_type": "stream",
     "text": [
      "==============================\n",
      "info: ['The', 'DT', 'I-NP', 'O', 'O']\n",
      "vec keys: ['the', 'DT', 'he', 'the', False, True, True, False]\n",
      "==============================\n",
      "info: ['European', 'NNP', 'I-NP', 'I-ORG', 'B-ORG']\n",
      "vec keys: ['european', 'NNP', 'an', 'ean', False, True, True, False]\n",
      "==============================\n",
      "info: ['Commission', 'NNP', 'I-NP', 'I-ORG', 'I-ORG']\n",
      "vec keys: ['commission', 'NNP', 'on', 'ion', False, True, True, False]\n",
      "==============================\n",
      "info: ['said', 'VBD', 'I-VP', 'O', 'O']\n",
      "vec keys: ['said', 'VBD', 'id', 'aid', False, False, True, False]\n",
      "==============================\n",
      "info: ['on', 'IN', 'I-PP', 'O', 'O']\n",
      "vec keys: ['on', 'IN', 'on', 'on', False, False, True, False]\n",
      "==============================\n",
      "info: ['Thursday', 'NNP', 'I-NP', 'O', 'O']\n",
      "vec keys: ['thursday', 'NNP', 'ay', 'day', False, True, True, False]\n",
      "==============================\n",
      "info: ['it', 'PRP', 'B-NP', 'O', 'O']\n",
      "vec keys: ['it', 'PRP', 'it', 'it', False, False, True, False]\n",
      "==============================\n",
      "info: ['disagreed', 'VBD', 'I-VP', 'O', 'O']\n",
      "vec keys: ['disagreed', 'VBD', 'ed', 'eed', False, False, True, False]\n",
      "==============================\n",
      "info: ['with', 'IN', 'I-PP', 'O', 'O']\n",
      "vec keys: ['with', 'IN', 'th', 'ith', False, False, True, False]\n",
      "==============================\n",
      "info: ['German', 'JJ', 'I-NP', 'I-MISC', 'B-MISC']\n",
      "vec keys: ['german', 'JJ', 'an', 'man', False, True, True, False]\n",
      "==============================\n",
      "info: ['advice', 'NN', 'I-NP', 'O', 'O']\n",
      "vec keys: ['advice', 'NN', 'ce', 'ice', False, False, True, False]\n",
      "==============================\n",
      "info: ['to', 'TO', 'I-PP', 'O', 'O']\n",
      "vec keys: ['to', 'TO', 'to', 'to', False, False, True, False]\n",
      "==============================\n",
      "info: ['consumers', 'NNS', 'I-NP', 'O', 'O']\n",
      "vec keys: ['consumers', 'NNS', 'rs', 'ers', False, False, True, False]\n",
      "==============================\n",
      "info: ['to', 'TO', 'I-VP', 'O', 'O']\n",
      "vec keys: ['to', 'TO', 'to', 'to', False, False, True, False]\n",
      "==============================\n",
      "info: ['shun', 'VB', 'I-VP', 'O', 'O']\n",
      "vec keys: ['shun', 'VB', 'un', 'hun', False, False, True, False]\n",
      "==============================\n",
      "info: ['British', 'JJ', 'I-NP', 'I-MISC', 'B-MISC']\n",
      "vec keys: ['british', 'JJ', 'sh', 'ish', False, True, True, False]\n",
      "==============================\n",
      "info: ['lamb', 'NN', 'I-NP', 'O', 'O']\n",
      "vec keys: ['lamb', 'NN', 'mb', 'amb', False, False, True, False]\n",
      "==============================\n",
      "info: ['until', 'IN', 'I-SBAR', 'O', 'O']\n",
      "vec keys: ['until', 'IN', 'il', 'til', False, False, True, False]\n",
      "==============================\n",
      "info: ['scientists', 'NNS', 'I-NP', 'O', 'O']\n",
      "vec keys: ['scientists', 'NNS', 'ts', 'sts', False, False, True, False]\n",
      "==============================\n",
      "info: ['determine', 'VBP', 'I-VP', 'O', 'O']\n",
      "vec keys: ['determine', 'VBP', 'ne', 'ine', False, False, True, False]\n",
      "==============================\n",
      "info: ['whether', 'IN', 'I-SBAR', 'O', 'O']\n",
      "vec keys: ['whether', 'IN', 'er', 'her', False, False, True, False]\n",
      "==============================\n",
      "info: ['mad', 'JJ', 'I-NP', 'O', 'O']\n",
      "vec keys: ['mad', 'JJ', 'ad', 'mad', False, False, True, False]\n",
      "==============================\n",
      "info: ['cow', 'NN', 'I-NP', 'O', 'O']\n",
      "vec keys: ['cow', 'NN', 'ow', 'cow', False, False, True, False]\n",
      "==============================\n",
      "info: ['disease', 'NN', 'I-NP', 'O', 'O']\n",
      "vec keys: ['disease', 'NN', 'se', 'ase', False, False, True, False]\n",
      "==============================\n",
      "info: ['can', 'MD', 'I-VP', 'O', 'O']\n",
      "vec keys: ['can', 'MD', 'an', 'can', False, False, True, False]\n",
      "==============================\n",
      "info: ['be', 'VB', 'I-VP', 'O', 'O']\n",
      "vec keys: ['be', 'VB', 'be', 'be', False, False, True, False]\n",
      "==============================\n",
      "info: ['transmitted', 'VBN', 'I-VP', 'O', 'O']\n",
      "vec keys: ['transmitted', 'VBN', 'ed', 'ted', False, False, True, False]\n",
      "==============================\n",
      "info: ['to', 'TO', 'I-PP', 'O', 'O']\n",
      "vec keys: ['to', 'TO', 'to', 'to', False, False, True, False]\n",
      "==============================\n",
      "info: ['sheep', 'NN', 'I-NP', 'O', 'O']\n",
      "vec keys: ['sheep', 'NN', 'ep', 'eep', False, False, True, False]\n",
      "==============================\n",
      "info: ['.', '.', 'O', 'O', 'O']\n",
      "vec keys: ['.', '.', '.', '.', False, False, False, False]\n"
     ]
    }
   ],
   "source": [
    "def wordInfo2vec(wordInfo):\n",
    "    \"\"\"\n",
    "    Given a wordInfo (word, pos, chunk_tag, tag_ibo, tag_bio), \n",
    "    create a vector representation for the word using the following features:\n",
    "    lowercase, POS, last2, last3, isUpper, isDigit, isAlpha\n",
    "    \n",
    "    Args:\n",
    "    - wordInfo (list): a list of (word, POS, chunk_tag, tag_ibo, tag_bio)\n",
    "    \n",
    "    \"\"\"\n",
    "    word, pos, *_ = wordInfo\n",
    "    vec = {\n",
    "        'word': word.lower(),\n",
    "        'pos': pos,\n",
    "        'last2': word.lower()[-2:],\n",
    "        'last3': word.lower()[-3:],\n",
    "        'isUpper': word.isupper(),\n",
    "        'isTitle': word.istitle(),\n",
    "        'isAlpha': word.isalpha(),\n",
    "        'isDigit': word.isdigit(),\n",
    "    }\n",
    "    return vec\n",
    "\n",
    "def test_wordInfo2vec():\n",
    "  for i in range(1,10):\n",
    "    print(\"=\"*30)\n",
    "    info = train_data_bio[i][0]\n",
    "    vec = wordInfo2vec(info)\n",
    "    print(f\"info: {info}\")\n",
    "#     print(f\"vec: {vec}\")\n",
    "    print(f\"vec keys: {list(vec.values())}\")\n",
    "    \n",
    "def test2_wordInfo2vec():\n",
    "  sent = train_data_bio[4]\n",
    "  for i in range(len(sent)):\n",
    "    print(\"=\"*30)\n",
    "    info = sent[i]\n",
    "    vec = wordInfo2vec(info)\n",
    "    print(f\"info: {info}\")\n",
    "    print(f\"vec keys: {list(vec.values())}\")\n",
    "    \n",
    "test2_wordInfo2vec()\n"
   ]
  },
  {
   "cell_type": "code",
   "execution_count": 124,
   "metadata": {},
   "outputs": [
    {
     "name": "stdout",
     "output_type": "stream",
     "text": [
      "sent: [['The', 'DT', 'I-NP', 'O', 'O'], ['European', 'NNP', 'I-NP', 'I-ORG', 'B-ORG'], ['Commission', 'NNP', 'I-NP', 'I-ORG', 'I-ORG'], ['said', 'VBD', 'I-VP', 'O', 'O'], ['on', 'IN', 'I-PP', 'O', 'O'], ['Thursday', 'NNP', 'I-NP', 'O', 'O'], ['it', 'PRP', 'B-NP', 'O', 'O'], ['disagreed', 'VBD', 'I-VP', 'O', 'O'], ['with', 'IN', 'I-PP', 'O', 'O'], ['German', 'JJ', 'I-NP', 'I-MISC', 'B-MISC'], ['advice', 'NN', 'I-NP', 'O', 'O'], ['to', 'TO', 'I-PP', 'O', 'O'], ['consumers', 'NNS', 'I-NP', 'O', 'O'], ['to', 'TO', 'I-VP', 'O', 'O'], ['shun', 'VB', 'I-VP', 'O', 'O'], ['British', 'JJ', 'I-NP', 'I-MISC', 'B-MISC'], ['lamb', 'NN', 'I-NP', 'O', 'O'], ['until', 'IN', 'I-SBAR', 'O', 'O'], ['scientists', 'NNS', 'I-NP', 'O', 'O'], ['determine', 'VBP', 'I-VP', 'O', 'O'], ['whether', 'IN', 'I-SBAR', 'O', 'O'], ['mad', 'JJ', 'I-NP', 'O', 'O'], ['cow', 'NN', 'I-NP', 'O', 'O'], ['disease', 'NN', 'I-NP', 'O', 'O'], ['can', 'MD', 'I-VP', 'O', 'O'], ['be', 'VB', 'I-VP', 'O', 'O'], ['transmitted', 'VBN', 'I-VP', 'O', 'O'], ['to', 'TO', 'I-PP', 'O', 'O'], ['sheep', 'NN', 'I-NP', 'O', 'O'], ['.', '.', 'O', 'O', 'O']]\n",
      "==============================\n",
      "vecs: [['the', 'DT', 'he', 'the', False, True, True, False, True, False], ['european', 'NNP', 'an', 'ean', False, True, True, False, False, False], ['commission', 'NNP', 'on', 'ion', False, True, True, False, False, False], ['said', 'VBD', 'id', 'aid', False, False, True, False, False, False], ['on', 'IN', 'on', 'on', False, False, True, False, False, False], ['thursday', 'NNP', 'ay', 'day', False, True, True, False, False, False], ['it', 'PRP', 'it', 'it', False, False, True, False, False, False], ['disagreed', 'VBD', 'ed', 'eed', False, False, True, False, False, False], ['with', 'IN', 'th', 'ith', False, False, True, False, False, False], ['german', 'JJ', 'an', 'man', False, True, True, False, False, False], ['advice', 'NN', 'ce', 'ice', False, False, True, False, False, False], ['to', 'TO', 'to', 'to', False, False, True, False, False, False], ['consumers', 'NNS', 'rs', 'ers', False, False, True, False, False, False], ['to', 'TO', 'to', 'to', False, False, True, False, False, False], ['shun', 'VB', 'un', 'hun', False, False, True, False, False, False], ['british', 'JJ', 'sh', 'ish', False, True, True, False, False, False], ['lamb', 'NN', 'mb', 'amb', False, False, True, False, False, False], ['until', 'IN', 'il', 'til', False, False, True, False, False, False], ['scientists', 'NNS', 'ts', 'sts', False, False, True, False, False, False], ['determine', 'VBP', 'ne', 'ine', False, False, True, False, False, False], ['whether', 'IN', 'er', 'her', False, False, True, False, False, False], ['mad', 'JJ', 'ad', 'mad', False, False, True, False, False, False], ['cow', 'NN', 'ow', 'cow', False, False, True, False, False, False], ['disease', 'NN', 'se', 'ase', False, False, True, False, False, False], ['can', 'MD', 'an', 'can', False, False, True, False, False, False], ['be', 'VB', 'be', 'be', False, False, True, False, False, False], ['transmitted', 'VBN', 'ed', 'ted', False, False, True, False, False, False], ['to', 'TO', 'to', 'to', False, False, True, False, False, False], ['sheep', 'NN', 'ep', 'eep', False, False, True, False, False, False], ['.', '.', '.', '.', False, False, False, False, False, True]]\n"
     ]
    }
   ],
   "source": [
    "def sent2vecs(sent):\n",
    "  \"\"\"\n",
    "  Create a new sentence after turning each word_info into a vector.\n",
    "  It adds 'bos' and 'eos' features, which indicates whether the word\n",
    "  is at the beginning and/or ending of the sentence.\n",
    "  \"\"\"\n",
    "  temp = [wordInfo2vec(winfo) for winfo in sent]\n",
    "  # add 'bos' and 'eos'\n",
    "  for i in range(len(sent)):\n",
    "    temp[i].update([('bos', False), ('eos',False)])\n",
    "    if i == 0:\n",
    "      temp[i].update([('bos', True)])\n",
    "    elif i == len(sent) - 1:\n",
    "      temp[i].update([('eos',True)])\n",
    "  return temp\n",
    "\n",
    "def test_sent2vecs():\n",
    "  sent = train_data_bio[4]\n",
    "  vecs = [list(d.values()) for d in sent2vecs(sent)]\n",
    "  \n",
    "  print(f\"sent: {sent}\")\n",
    "  print(\"=\"*30)\n",
    "  print(f\"vecs: {vecs}\")\n",
    "\n",
    "test_sent2vecs()"
   ]
  },
  {
   "cell_type": "code",
   "execution_count": 125,
   "metadata": {},
   "outputs": [],
   "source": [
    "def sents2vecs(sents):\n",
    "    return [sent2vecs(sent) for sent in sents]\n",
    "\n",
    "train_sents = sents2vecs(train_data_iob[1:]) #ignore the header"
   ]
  },
  {
   "cell_type": "code",
   "execution_count": 126,
   "metadata": {},
   "outputs": [
    {
     "data": {
      "text/plain": [
       "[{'word': 'brussels',\n",
       "  'pos': 'NNP',\n",
       "  'last2': 'ls',\n",
       "  'last3': 'els',\n",
       "  'isUpper': True,\n",
       "  'isTitle': False,\n",
       "  'isAlpha': True,\n",
       "  'isDigit': False,\n",
       "  'bos': True,\n",
       "  'eos': False},\n",
       " {'word': '1996-08-22',\n",
       "  'pos': 'CD',\n",
       "  'last2': '22',\n",
       "  'last3': '-22',\n",
       "  'isUpper': False,\n",
       "  'isTitle': False,\n",
       "  'isAlpha': False,\n",
       "  'isDigit': False,\n",
       "  'bos': False,\n",
       "  'eos': True}]"
      ]
     },
     "execution_count": 126,
     "metadata": {},
     "output_type": "execute_result"
    }
   ],
   "source": [
    "train_sents[2]"
   ]
  },
  {
   "cell_type": "markdown",
   "metadata": {},
   "source": [
    "## Improve features with context from neighboring words\n",
    "Now, we use each word's vector representation to build a feature for each word using neighboring words.  \n",
    "We will concatenate previous and next words' features to current word's features for the words in the middle of a sentence. If a word is at the sentence boundary (ie. beginning or end), then we add only the word features that is available.  We will also add two new boolean features, 'bos' and 'eos', that indicates whetehr the word is at the beginning or end of the sentence, repectively."
   ]
  },
  {
   "cell_type": "code",
   "execution_count": 140,
   "metadata": {},
   "outputs": [
    {
     "name": "stdout",
     "output_type": "stream",
     "text": [
      "word info: ['Peter', 'NNP', 'I-NP', 'I-PER', 'B-PER']\n",
      "vec: {'word': 'peter', 'pos': 'NNP', 'pos2': 'NN', 'last2': 'er', 'last3': 'ter', 'isUpper': False, 'isTitle': True, 'isAlpha': True, 'isDigit': False, 'bos': True, 'eos': True}\n"
     ]
    }
   ],
   "source": [
    "def wordInfo2vec(sent, i):\n",
    "    \"\"\"\n",
    "    Make a vector representation of a wordInfo (tuple/list) at the ith position of the input sentence, sent.\n",
    "    \n",
    "    Args:\n",
    "    - sent (list): a list of word information. \n",
    "    A word information is a list of [word, POS, chunk_tag, tag_ibo, tag_bio]\n",
    "    - i (int): index into the sentence to select a word information\n",
    "    \n",
    "    Returns:\n",
    "    - vec (list): a vector representation of the selected word using the following list of features.\n",
    "    [word_lowercase, POS, POS2, last2, last3, isUpper, isTitle, isAlpha, isDigit]\n",
    "    \"\"\"\n",
    "    assert(0 <= i and i < len(sent))\n",
    "    word_info = sent[i]\n",
    "    word, pos, *_ = word_info\n",
    "#     print(f'word: {word}, pos: {pos}')\n",
    "    \n",
    "    vec = {\n",
    "      'word': word.lower(),\n",
    "      'pos': pos,\n",
    "      'pos2': pos[:2],\n",
    "      'last2': word[-2:],\n",
    "      'last3': word[-3:],\n",
    "      'isUpper': word.isupper(),\n",
    "      'isTitle': word.istitle(),\n",
    "      'isAlpha': word.isalpha(),\n",
    "      'isDigit': word.isdigit(),\n",
    "    }\n",
    "    \n",
    "          \n",
    "    if len(sent) == 1:\n",
    "        vec['bos'] = True\n",
    "        vec['eos'] = True    \n",
    "        return vec\n",
    "\n",
    "    # add next word's context\n",
    "    if i < len(sent)-1:          \n",
    "        next_info = sent[i+1]\n",
    "        next_word, next_pos, *_ = next_info\n",
    "        vec.update({\n",
    "            'next_word': next_word,\n",
    "            'next_pos': next_pos,\n",
    "            'next_pos2': next_pos[:2],\n",
    "            'next_last2': next_word[-2:],\n",
    "            'next_last3': next_word[-3:],\n",
    "            'next_isUpper': next_word.isupper(),\n",
    "            'next_isTitle': next_word.istitle(),\n",
    "            'next_isalpha': next_word.isalpha(),\n",
    "            'next_isdigit': next_word.isdigit()\n",
    "        })\n",
    "    else: \n",
    "        vec['eos'] = True\n",
    "\n",
    "    # add previous word's context\n",
    "    if i > 0:\n",
    "        prev_info = sent[i-1]\n",
    "        prev_word, prev_pos, *_ = prev_info\n",
    "        vec.update({\n",
    "            'prev_word': prev_word,\n",
    "            'prev_pos': prev_pos,\n",
    "            'prev_pos2': prev_pos[:2],\n",
    "            'prev_last2': prev_word[-2:],\n",
    "            'prev_last3': prev_word[-3:],\n",
    "            'prev_isUpper': prev_word.isupper(),\n",
    "            'prev_isTitle': prev_word.istitle(),\n",
    "            'prev_isalpha': prev_word.isalpha(),\n",
    "            'prev_isdigit': prev_word.isdigit()\n",
    "        })\n",
    "    else:\n",
    "        vec['bos'] = True\n",
    "      \n",
    "    return vec\n",
    "\n",
    "def test0_wordInfo2vec():\n",
    "    wordInfo = train_data_bio[1][0]\n",
    "    sent = [wordInfo]\n",
    "    print(f\"word info: {wordInfo}\")\n",
    "    print(f\"vec: {wordInfo2vec(sent, 0)}\")\n",
    "\n",
    "def test_wordInfo2vec():\n",
    "    sent = train_data_bio[1]\n",
    "    for i in range(len(sent)):\n",
    "        print(\"=\"*80)\n",
    "        print(f\"word info: {sent[i]}\")\n",
    "        vec = wordInfo2vec(sent, i)\n",
    "        print(f\"vec: {vec}\")\n",
    "\n",
    "test0_wordInfo2vec()\n",
    "#test_wordInfo2vec()\n",
    "    \n"
   ]
  },
  {
   "cell_type": "code",
   "execution_count": 137,
   "metadata": {},
   "outputs": [
    {
     "name": "stdout",
     "output_type": "stream",
     "text": [
      "word: Germany, pos: NNP\n",
      "word: 's, pos: POS\n",
      "word: representative, pos: NN\n",
      "word: to, pos: TO\n",
      "word: the, pos: DT\n",
      "word: European, pos: NNP\n",
      "word: Union, pos: NNP\n",
      "word: 's, pos: POS\n",
      "word: veterinary, pos: JJ\n",
      "word: committee, pos: NN\n",
      "word: Werner, pos: NNP\n",
      "word: Zwingmann, pos: NNP\n",
      "word: said, pos: VBD\n",
      "word: on, pos: IN\n",
      "word: Wednesday, pos: NNP\n",
      "word: consumers, pos: NNS\n",
      "word: should, pos: MD\n",
      "word: buy, pos: VB\n",
      "word: sheepmeat, pos: NN\n",
      "word: from, pos: IN\n",
      "word: countries, pos: NNS\n",
      "word: other, pos: JJ\n",
      "word: than, pos: IN\n",
      "word: Britain, pos: NNP\n",
      "word: until, pos: IN\n",
      "word: the, pos: DT\n",
      "word: scientific, pos: JJ\n",
      "word: advice, pos: NN\n",
      "word: was, pos: VBD\n",
      "word: clearer, pos: JJR\n",
      "word: ., pos: .\n",
      "================================================================================\n",
      "{'word': 'germany', 'pos': 'NNP', 'pos2': 'NN', 'last2': 'ny', 'last3': 'any', 'isUpper': False, 'isTitle': True, 'isAlpha': True, 'isDigit': False, 'next_word': \"'s\", 'next_pos': 'POS', 'next_pos2': 'PO', 'next_last2': \"'s\", 'next_last3': \"'s\", 'next_isUpper': False, 'next_isTitle': False, 'next_isalpha': False, 'next_isdigit': False, 'bos': True}\n",
      "================================================================================\n",
      "{'word': \"'s\", 'pos': 'POS', 'pos2': 'PO', 'last2': \"'s\", 'last3': \"'s\", 'isUpper': False, 'isTitle': False, 'isAlpha': False, 'isDigit': False, 'next_word': 'representative', 'next_pos': 'NN', 'next_pos2': 'NN', 'next_last2': 've', 'next_last3': 'ive', 'next_isUpper': False, 'next_isTitle': False, 'next_isalpha': True, 'next_isdigit': False, 'prev_word': 'Germany', 'prev_pos': 'NNP', 'prev_pos2': 'NN', 'prev_last2': 'ny', 'prev_last3': 'any', 'prev_isUpper': False, 'prev_isTitle': True, 'prev_isalpha': True, 'prev_isdigit': False}\n",
      "================================================================================\n",
      "{'word': 'representative', 'pos': 'NN', 'pos2': 'NN', 'last2': 've', 'last3': 'ive', 'isUpper': False, 'isTitle': False, 'isAlpha': True, 'isDigit': False, 'next_word': 'to', 'next_pos': 'TO', 'next_pos2': 'TO', 'next_last2': 'to', 'next_last3': 'to', 'next_isUpper': False, 'next_isTitle': False, 'next_isalpha': True, 'next_isdigit': False, 'prev_word': \"'s\", 'prev_pos': 'POS', 'prev_pos2': 'PO', 'prev_last2': \"'s\", 'prev_last3': \"'s\", 'prev_isUpper': False, 'prev_isTitle': False, 'prev_isalpha': False, 'prev_isdigit': False}\n",
      "================================================================================\n",
      "{'word': 'to', 'pos': 'TO', 'pos2': 'TO', 'last2': 'to', 'last3': 'to', 'isUpper': False, 'isTitle': False, 'isAlpha': True, 'isDigit': False, 'next_word': 'the', 'next_pos': 'DT', 'next_pos2': 'DT', 'next_last2': 'he', 'next_last3': 'the', 'next_isUpper': False, 'next_isTitle': False, 'next_isalpha': True, 'next_isdigit': False, 'prev_word': 'representative', 'prev_pos': 'NN', 'prev_pos2': 'NN', 'prev_last2': 've', 'prev_last3': 'ive', 'prev_isUpper': False, 'prev_isTitle': False, 'prev_isalpha': True, 'prev_isdigit': False}\n",
      "================================================================================\n",
      "{'word': 'the', 'pos': 'DT', 'pos2': 'DT', 'last2': 'he', 'last3': 'the', 'isUpper': False, 'isTitle': False, 'isAlpha': True, 'isDigit': False, 'next_word': 'European', 'next_pos': 'NNP', 'next_pos2': 'NN', 'next_last2': 'an', 'next_last3': 'ean', 'next_isUpper': False, 'next_isTitle': True, 'next_isalpha': True, 'next_isdigit': False, 'prev_word': 'to', 'prev_pos': 'TO', 'prev_pos2': 'TO', 'prev_last2': 'to', 'prev_last3': 'to', 'prev_isUpper': False, 'prev_isTitle': False, 'prev_isalpha': True, 'prev_isdigit': False}\n",
      "================================================================================\n",
      "{'word': 'european', 'pos': 'NNP', 'pos2': 'NN', 'last2': 'an', 'last3': 'ean', 'isUpper': False, 'isTitle': True, 'isAlpha': True, 'isDigit': False, 'next_word': 'Union', 'next_pos': 'NNP', 'next_pos2': 'NN', 'next_last2': 'on', 'next_last3': 'ion', 'next_isUpper': False, 'next_isTitle': True, 'next_isalpha': True, 'next_isdigit': False, 'prev_word': 'the', 'prev_pos': 'DT', 'prev_pos2': 'DT', 'prev_last2': 'he', 'prev_last3': 'the', 'prev_isUpper': False, 'prev_isTitle': False, 'prev_isalpha': True, 'prev_isdigit': False}\n",
      "================================================================================\n",
      "{'word': 'union', 'pos': 'NNP', 'pos2': 'NN', 'last2': 'on', 'last3': 'ion', 'isUpper': False, 'isTitle': True, 'isAlpha': True, 'isDigit': False, 'next_word': \"'s\", 'next_pos': 'POS', 'next_pos2': 'PO', 'next_last2': \"'s\", 'next_last3': \"'s\", 'next_isUpper': False, 'next_isTitle': False, 'next_isalpha': False, 'next_isdigit': False, 'prev_word': 'European', 'prev_pos': 'NNP', 'prev_pos2': 'NN', 'prev_last2': 'an', 'prev_last3': 'ean', 'prev_isUpper': False, 'prev_isTitle': True, 'prev_isalpha': True, 'prev_isdigit': False}\n",
      "================================================================================\n",
      "{'word': \"'s\", 'pos': 'POS', 'pos2': 'PO', 'last2': \"'s\", 'last3': \"'s\", 'isUpper': False, 'isTitle': False, 'isAlpha': False, 'isDigit': False, 'next_word': 'veterinary', 'next_pos': 'JJ', 'next_pos2': 'JJ', 'next_last2': 'ry', 'next_last3': 'ary', 'next_isUpper': False, 'next_isTitle': False, 'next_isalpha': True, 'next_isdigit': False, 'prev_word': 'Union', 'prev_pos': 'NNP', 'prev_pos2': 'NN', 'prev_last2': 'on', 'prev_last3': 'ion', 'prev_isUpper': False, 'prev_isTitle': True, 'prev_isalpha': True, 'prev_isdigit': False}\n",
      "================================================================================\n",
      "{'word': 'veterinary', 'pos': 'JJ', 'pos2': 'JJ', 'last2': 'ry', 'last3': 'ary', 'isUpper': False, 'isTitle': False, 'isAlpha': True, 'isDigit': False, 'next_word': 'committee', 'next_pos': 'NN', 'next_pos2': 'NN', 'next_last2': 'ee', 'next_last3': 'tee', 'next_isUpper': False, 'next_isTitle': False, 'next_isalpha': True, 'next_isdigit': False, 'prev_word': \"'s\", 'prev_pos': 'POS', 'prev_pos2': 'PO', 'prev_last2': \"'s\", 'prev_last3': \"'s\", 'prev_isUpper': False, 'prev_isTitle': False, 'prev_isalpha': False, 'prev_isdigit': False}\n",
      "================================================================================\n",
      "{'word': 'committee', 'pos': 'NN', 'pos2': 'NN', 'last2': 'ee', 'last3': 'tee', 'isUpper': False, 'isTitle': False, 'isAlpha': True, 'isDigit': False, 'next_word': 'Werner', 'next_pos': 'NNP', 'next_pos2': 'NN', 'next_last2': 'er', 'next_last3': 'ner', 'next_isUpper': False, 'next_isTitle': True, 'next_isalpha': True, 'next_isdigit': False, 'prev_word': 'veterinary', 'prev_pos': 'JJ', 'prev_pos2': 'JJ', 'prev_last2': 'ry', 'prev_last3': 'ary', 'prev_isUpper': False, 'prev_isTitle': False, 'prev_isalpha': True, 'prev_isdigit': False}\n",
      "================================================================================\n",
      "{'word': 'werner', 'pos': 'NNP', 'pos2': 'NN', 'last2': 'er', 'last3': 'ner', 'isUpper': False, 'isTitle': True, 'isAlpha': True, 'isDigit': False, 'next_word': 'Zwingmann', 'next_pos': 'NNP', 'next_pos2': 'NN', 'next_last2': 'nn', 'next_last3': 'ann', 'next_isUpper': False, 'next_isTitle': True, 'next_isalpha': True, 'next_isdigit': False, 'prev_word': 'committee', 'prev_pos': 'NN', 'prev_pos2': 'NN', 'prev_last2': 'ee', 'prev_last3': 'tee', 'prev_isUpper': False, 'prev_isTitle': False, 'prev_isalpha': True, 'prev_isdigit': False}\n",
      "================================================================================\n",
      "{'word': 'zwingmann', 'pos': 'NNP', 'pos2': 'NN', 'last2': 'nn', 'last3': 'ann', 'isUpper': False, 'isTitle': True, 'isAlpha': True, 'isDigit': False, 'next_word': 'said', 'next_pos': 'VBD', 'next_pos2': 'VB', 'next_last2': 'id', 'next_last3': 'aid', 'next_isUpper': False, 'next_isTitle': False, 'next_isalpha': True, 'next_isdigit': False, 'prev_word': 'Werner', 'prev_pos': 'NNP', 'prev_pos2': 'NN', 'prev_last2': 'er', 'prev_last3': 'ner', 'prev_isUpper': False, 'prev_isTitle': True, 'prev_isalpha': True, 'prev_isdigit': False}\n",
      "================================================================================\n",
      "{'word': 'said', 'pos': 'VBD', 'pos2': 'VB', 'last2': 'id', 'last3': 'aid', 'isUpper': False, 'isTitle': False, 'isAlpha': True, 'isDigit': False, 'next_word': 'on', 'next_pos': 'IN', 'next_pos2': 'IN', 'next_last2': 'on', 'next_last3': 'on', 'next_isUpper': False, 'next_isTitle': False, 'next_isalpha': True, 'next_isdigit': False, 'prev_word': 'Zwingmann', 'prev_pos': 'NNP', 'prev_pos2': 'NN', 'prev_last2': 'nn', 'prev_last3': 'ann', 'prev_isUpper': False, 'prev_isTitle': True, 'prev_isalpha': True, 'prev_isdigit': False}\n",
      "================================================================================\n",
      "{'word': 'on', 'pos': 'IN', 'pos2': 'IN', 'last2': 'on', 'last3': 'on', 'isUpper': False, 'isTitle': False, 'isAlpha': True, 'isDigit': False, 'next_word': 'Wednesday', 'next_pos': 'NNP', 'next_pos2': 'NN', 'next_last2': 'ay', 'next_last3': 'day', 'next_isUpper': False, 'next_isTitle': True, 'next_isalpha': True, 'next_isdigit': False, 'prev_word': 'said', 'prev_pos': 'VBD', 'prev_pos2': 'VB', 'prev_last2': 'id', 'prev_last3': 'aid', 'prev_isUpper': False, 'prev_isTitle': False, 'prev_isalpha': True, 'prev_isdigit': False}\n",
      "================================================================================\n",
      "{'word': 'wednesday', 'pos': 'NNP', 'pos2': 'NN', 'last2': 'ay', 'last3': 'day', 'isUpper': False, 'isTitle': True, 'isAlpha': True, 'isDigit': False, 'next_word': 'consumers', 'next_pos': 'NNS', 'next_pos2': 'NN', 'next_last2': 'rs', 'next_last3': 'ers', 'next_isUpper': False, 'next_isTitle': False, 'next_isalpha': True, 'next_isdigit': False, 'prev_word': 'on', 'prev_pos': 'IN', 'prev_pos2': 'IN', 'prev_last2': 'on', 'prev_last3': 'on', 'prev_isUpper': False, 'prev_isTitle': False, 'prev_isalpha': True, 'prev_isdigit': False}\n",
      "================================================================================\n",
      "{'word': 'consumers', 'pos': 'NNS', 'pos2': 'NN', 'last2': 'rs', 'last3': 'ers', 'isUpper': False, 'isTitle': False, 'isAlpha': True, 'isDigit': False, 'next_word': 'should', 'next_pos': 'MD', 'next_pos2': 'MD', 'next_last2': 'ld', 'next_last3': 'uld', 'next_isUpper': False, 'next_isTitle': False, 'next_isalpha': True, 'next_isdigit': False, 'prev_word': 'Wednesday', 'prev_pos': 'NNP', 'prev_pos2': 'NN', 'prev_last2': 'ay', 'prev_last3': 'day', 'prev_isUpper': False, 'prev_isTitle': True, 'prev_isalpha': True, 'prev_isdigit': False}\n",
      "================================================================================\n",
      "{'word': 'should', 'pos': 'MD', 'pos2': 'MD', 'last2': 'ld', 'last3': 'uld', 'isUpper': False, 'isTitle': False, 'isAlpha': True, 'isDigit': False, 'next_word': 'buy', 'next_pos': 'VB', 'next_pos2': 'VB', 'next_last2': 'uy', 'next_last3': 'buy', 'next_isUpper': False, 'next_isTitle': False, 'next_isalpha': True, 'next_isdigit': False, 'prev_word': 'consumers', 'prev_pos': 'NNS', 'prev_pos2': 'NN', 'prev_last2': 'rs', 'prev_last3': 'ers', 'prev_isUpper': False, 'prev_isTitle': False, 'prev_isalpha': True, 'prev_isdigit': False}\n",
      "================================================================================\n",
      "{'word': 'buy', 'pos': 'VB', 'pos2': 'VB', 'last2': 'uy', 'last3': 'buy', 'isUpper': False, 'isTitle': False, 'isAlpha': True, 'isDigit': False, 'next_word': 'sheepmeat', 'next_pos': 'NN', 'next_pos2': 'NN', 'next_last2': 'at', 'next_last3': 'eat', 'next_isUpper': False, 'next_isTitle': False, 'next_isalpha': True, 'next_isdigit': False, 'prev_word': 'should', 'prev_pos': 'MD', 'prev_pos2': 'MD', 'prev_last2': 'ld', 'prev_last3': 'uld', 'prev_isUpper': False, 'prev_isTitle': False, 'prev_isalpha': True, 'prev_isdigit': False}\n",
      "================================================================================\n",
      "{'word': 'sheepmeat', 'pos': 'NN', 'pos2': 'NN', 'last2': 'at', 'last3': 'eat', 'isUpper': False, 'isTitle': False, 'isAlpha': True, 'isDigit': False, 'next_word': 'from', 'next_pos': 'IN', 'next_pos2': 'IN', 'next_last2': 'om', 'next_last3': 'rom', 'next_isUpper': False, 'next_isTitle': False, 'next_isalpha': True, 'next_isdigit': False, 'prev_word': 'buy', 'prev_pos': 'VB', 'prev_pos2': 'VB', 'prev_last2': 'uy', 'prev_last3': 'buy', 'prev_isUpper': False, 'prev_isTitle': False, 'prev_isalpha': True, 'prev_isdigit': False}\n",
      "================================================================================\n",
      "{'word': 'from', 'pos': 'IN', 'pos2': 'IN', 'last2': 'om', 'last3': 'rom', 'isUpper': False, 'isTitle': False, 'isAlpha': True, 'isDigit': False, 'next_word': 'countries', 'next_pos': 'NNS', 'next_pos2': 'NN', 'next_last2': 'es', 'next_last3': 'ies', 'next_isUpper': False, 'next_isTitle': False, 'next_isalpha': True, 'next_isdigit': False, 'prev_word': 'sheepmeat', 'prev_pos': 'NN', 'prev_pos2': 'NN', 'prev_last2': 'at', 'prev_last3': 'eat', 'prev_isUpper': False, 'prev_isTitle': False, 'prev_isalpha': True, 'prev_isdigit': False}\n",
      "================================================================================\n",
      "{'word': 'countries', 'pos': 'NNS', 'pos2': 'NN', 'last2': 'es', 'last3': 'ies', 'isUpper': False, 'isTitle': False, 'isAlpha': True, 'isDigit': False, 'next_word': 'other', 'next_pos': 'JJ', 'next_pos2': 'JJ', 'next_last2': 'er', 'next_last3': 'her', 'next_isUpper': False, 'next_isTitle': False, 'next_isalpha': True, 'next_isdigit': False, 'prev_word': 'from', 'prev_pos': 'IN', 'prev_pos2': 'IN', 'prev_last2': 'om', 'prev_last3': 'rom', 'prev_isUpper': False, 'prev_isTitle': False, 'prev_isalpha': True, 'prev_isdigit': False}\n",
      "================================================================================\n",
      "{'word': 'other', 'pos': 'JJ', 'pos2': 'JJ', 'last2': 'er', 'last3': 'her', 'isUpper': False, 'isTitle': False, 'isAlpha': True, 'isDigit': False, 'next_word': 'than', 'next_pos': 'IN', 'next_pos2': 'IN', 'next_last2': 'an', 'next_last3': 'han', 'next_isUpper': False, 'next_isTitle': False, 'next_isalpha': True, 'next_isdigit': False, 'prev_word': 'countries', 'prev_pos': 'NNS', 'prev_pos2': 'NN', 'prev_last2': 'es', 'prev_last3': 'ies', 'prev_isUpper': False, 'prev_isTitle': False, 'prev_isalpha': True, 'prev_isdigit': False}\n",
      "================================================================================\n",
      "{'word': 'than', 'pos': 'IN', 'pos2': 'IN', 'last2': 'an', 'last3': 'han', 'isUpper': False, 'isTitle': False, 'isAlpha': True, 'isDigit': False, 'next_word': 'Britain', 'next_pos': 'NNP', 'next_pos2': 'NN', 'next_last2': 'in', 'next_last3': 'ain', 'next_isUpper': False, 'next_isTitle': True, 'next_isalpha': True, 'next_isdigit': False, 'prev_word': 'other', 'prev_pos': 'JJ', 'prev_pos2': 'JJ', 'prev_last2': 'er', 'prev_last3': 'her', 'prev_isUpper': False, 'prev_isTitle': False, 'prev_isalpha': True, 'prev_isdigit': False}\n",
      "================================================================================\n",
      "{'word': 'britain', 'pos': 'NNP', 'pos2': 'NN', 'last2': 'in', 'last3': 'ain', 'isUpper': False, 'isTitle': True, 'isAlpha': True, 'isDigit': False, 'next_word': 'until', 'next_pos': 'IN', 'next_pos2': 'IN', 'next_last2': 'il', 'next_last3': 'til', 'next_isUpper': False, 'next_isTitle': False, 'next_isalpha': True, 'next_isdigit': False, 'prev_word': 'than', 'prev_pos': 'IN', 'prev_pos2': 'IN', 'prev_last2': 'an', 'prev_last3': 'han', 'prev_isUpper': False, 'prev_isTitle': False, 'prev_isalpha': True, 'prev_isdigit': False}\n",
      "================================================================================\n",
      "{'word': 'until', 'pos': 'IN', 'pos2': 'IN', 'last2': 'il', 'last3': 'til', 'isUpper': False, 'isTitle': False, 'isAlpha': True, 'isDigit': False, 'next_word': 'the', 'next_pos': 'DT', 'next_pos2': 'DT', 'next_last2': 'he', 'next_last3': 'the', 'next_isUpper': False, 'next_isTitle': False, 'next_isalpha': True, 'next_isdigit': False, 'prev_word': 'Britain', 'prev_pos': 'NNP', 'prev_pos2': 'NN', 'prev_last2': 'in', 'prev_last3': 'ain', 'prev_isUpper': False, 'prev_isTitle': True, 'prev_isalpha': True, 'prev_isdigit': False}\n",
      "================================================================================\n",
      "{'word': 'the', 'pos': 'DT', 'pos2': 'DT', 'last2': 'he', 'last3': 'the', 'isUpper': False, 'isTitle': False, 'isAlpha': True, 'isDigit': False, 'next_word': 'scientific', 'next_pos': 'JJ', 'next_pos2': 'JJ', 'next_last2': 'ic', 'next_last3': 'fic', 'next_isUpper': False, 'next_isTitle': False, 'next_isalpha': True, 'next_isdigit': False, 'prev_word': 'until', 'prev_pos': 'IN', 'prev_pos2': 'IN', 'prev_last2': 'il', 'prev_last3': 'til', 'prev_isUpper': False, 'prev_isTitle': False, 'prev_isalpha': True, 'prev_isdigit': False}\n",
      "================================================================================\n",
      "{'word': 'scientific', 'pos': 'JJ', 'pos2': 'JJ', 'last2': 'ic', 'last3': 'fic', 'isUpper': False, 'isTitle': False, 'isAlpha': True, 'isDigit': False, 'next_word': 'advice', 'next_pos': 'NN', 'next_pos2': 'NN', 'next_last2': 'ce', 'next_last3': 'ice', 'next_isUpper': False, 'next_isTitle': False, 'next_isalpha': True, 'next_isdigit': False, 'prev_word': 'the', 'prev_pos': 'DT', 'prev_pos2': 'DT', 'prev_last2': 'he', 'prev_last3': 'the', 'prev_isUpper': False, 'prev_isTitle': False, 'prev_isalpha': True, 'prev_isdigit': False}\n",
      "================================================================================\n",
      "{'word': 'advice', 'pos': 'NN', 'pos2': 'NN', 'last2': 'ce', 'last3': 'ice', 'isUpper': False, 'isTitle': False, 'isAlpha': True, 'isDigit': False, 'next_word': 'was', 'next_pos': 'VBD', 'next_pos2': 'VB', 'next_last2': 'as', 'next_last3': 'was', 'next_isUpper': False, 'next_isTitle': False, 'next_isalpha': True, 'next_isdigit': False, 'prev_word': 'scientific', 'prev_pos': 'JJ', 'prev_pos2': 'JJ', 'prev_last2': 'ic', 'prev_last3': 'fic', 'prev_isUpper': False, 'prev_isTitle': False, 'prev_isalpha': True, 'prev_isdigit': False}\n",
      "================================================================================\n",
      "{'word': 'was', 'pos': 'VBD', 'pos2': 'VB', 'last2': 'as', 'last3': 'was', 'isUpper': False, 'isTitle': False, 'isAlpha': True, 'isDigit': False, 'next_word': 'clearer', 'next_pos': 'JJR', 'next_pos2': 'JJ', 'next_last2': 'er', 'next_last3': 'rer', 'next_isUpper': False, 'next_isTitle': False, 'next_isalpha': True, 'next_isdigit': False, 'prev_word': 'advice', 'prev_pos': 'NN', 'prev_pos2': 'NN', 'prev_last2': 'ce', 'prev_last3': 'ice', 'prev_isUpper': False, 'prev_isTitle': False, 'prev_isalpha': True, 'prev_isdigit': False}\n",
      "================================================================================\n",
      "{'word': 'clearer', 'pos': 'JJR', 'pos2': 'JJ', 'last2': 'er', 'last3': 'rer', 'isUpper': False, 'isTitle': False, 'isAlpha': True, 'isDigit': False, 'next_word': '.', 'next_pos': '.', 'next_pos2': '.', 'next_last2': '.', 'next_last3': '.', 'next_isUpper': False, 'next_isTitle': False, 'next_isalpha': False, 'next_isdigit': False, 'prev_word': 'was', 'prev_pos': 'VBD', 'prev_pos2': 'VB', 'prev_last2': 'as', 'prev_last3': 'was', 'prev_isUpper': False, 'prev_isTitle': False, 'prev_isalpha': True, 'prev_isdigit': False}\n",
      "================================================================================\n",
      "{'word': '.', 'pos': '.', 'pos2': '.', 'last2': '.', 'last3': '.', 'isUpper': False, 'isTitle': False, 'isAlpha': False, 'isDigit': False, 'eos': True, 'prev_word': 'clearer', 'prev_pos': 'JJR', 'prev_pos2': 'JJ', 'prev_last2': 'er', 'prev_last3': 'rer', 'prev_isUpper': False, 'prev_isTitle': False, 'prev_isalpha': True, 'prev_isdigit': False}\n"
     ]
    }
   ],
   "source": [
    "def sent2vecs(sent):\n",
    "    return [wordInfo2vec(sent, i) for i in range(len(sent))]\n",
    "\n",
    "def test_sent2vecs():\n",
    "    sent = train_data_bio[5]\n",
    "    vecs = sent2vecs(sent)\n",
    "    for vec in vecs:\n",
    "        print(\"=\"*80)\n",
    "        print(vec)\n",
    "        \n",
    "test_sent2vecs()\n",
    "    "
   ]
  },
  {
   "cell_type": "code",
   "execution_count": 160,
   "metadata": {},
   "outputs": [
    {
     "name": "stdout",
     "output_type": "stream",
     "text": [
      "['B-PER', 'I-PER']\n"
     ]
    }
   ],
   "source": [
    "def sent2labels(sent):\n",
    "    \"\"\"\n",
    "    Create a list of lables for the sentence\n",
    "    \n",
    "    Args:\n",
    "    - sent (list): a list of wordInfos\n",
    "    \"\"\"\n",
    "    return [label for (*_, label) in sent]\n",
    "def test_sent2labels():\n",
    "    sent = train_data_bio[1]\n",
    "    print(sent2labels(sent))\n",
    "test_sent2labels()"
   ]
  },
  {
   "cell_type": "markdown",
   "metadata": {},
   "source": [
    "## Create train, dev, test data matrix and labels"
   ]
  },
  {
   "cell_type": "code",
   "execution_count": 161,
   "metadata": {},
   "outputs": [],
   "source": [
    "# Create datasets with these feature vectors for each word_info\n",
    "X_train = [sent2vecs(sent) for sent in train_data_bio]\n",
    "y_train = [sent2labels(sent) for sent in train_data_bio]"
   ]
  },
  {
   "cell_type": "code",
   "execution_count": 166,
   "metadata": {},
   "outputs": [
    {
     "name": "stdout",
     "output_type": "stream",
     "text": [
      "n_sentences:  14985\n",
      "n_words:  204562\n",
      "y_train len:  14985\n",
      "['O', 'B-ORG', 'I-ORG', 'O', 'O', 'O', 'O', 'O', 'O', 'B-MISC', 'O', 'O', 'O', 'O', 'O', 'B-MISC', 'O', 'O', 'O', 'O', 'O', 'O', 'O', 'O', 'O', 'O', 'O', 'O', 'O', 'O']\n"
     ]
    }
   ],
   "source": [
    "print(\"n_sentences: \",len(X_train))\n",
    "print(\"n_words: \", len([1 for sent in X_train for w in sent]))\n",
    "print(\"y_train len: \", len(y_train))\n",
    "print (y_train[3])"
   ]
  },
  {
   "cell_type": "code",
   "execution_count": 167,
   "metadata": {},
   "outputs": [],
   "source": [
    "X_dev = [sent2vecs(sent) for sent in dev_data_bio]\n",
    "y_dev = [sent2labels(sent) for sent in dev_data_bio]"
   ]
  },
  {
   "cell_type": "code",
   "execution_count": 154,
   "metadata": {},
   "outputs": [],
   "source": [
    "X_test = [sent2vecs(sent) for sent in test_data]\n",
    "# remember we need to convert the tags in BIO scheme to IBO scheme before submitting"
   ]
  },
  {
   "cell_type": "markdown",
   "metadata": {},
   "source": [
    "## Train"
   ]
  },
  {
   "cell_type": "code",
   "execution_count": 168,
   "metadata": {},
   "outputs": [],
   "source": [
    "# Define our CRF model\n",
    "crf = sklearn_crfsuite.CRF(\n",
    "    algorithm='lbfgs',\n",
    "    c1=0.1,\n",
    "    c2=0.1,\n",
    "    max_iterations=1000,\n",
    "    all_possible_transitions=True\n",
    ")"
   ]
  },
  {
   "cell_type": "code",
   "execution_count": 169,
   "metadata": {},
   "outputs": [
    {
     "data": {
      "text/plain": [
       "(14985,)"
      ]
     },
     "execution_count": 169,
     "metadata": {},
     "output_type": "execute_result"
    }
   ],
   "source": [
    "np.array(X_train).shape"
   ]
  },
  {
   "cell_type": "code",
   "execution_count": 170,
   "metadata": {},
   "outputs": [
    {
     "name": "stdout",
     "output_type": "stream",
     "text": [
      "CPU times: user 5min 51s, sys: 466 ms, total: 5min 52s\n",
      "Wall time: 5min 52s\n"
     ]
    },
    {
     "data": {
      "text/plain": [
       "CRF(algorithm='lbfgs', all_possible_states=None,\n",
       "  all_possible_transitions=True, averaging=None, c=None, c1=0.1, c2=0.1,\n",
       "  calibration_candidates=None, calibration_eta=None,\n",
       "  calibration_max_trials=None, calibration_rate=None,\n",
       "  calibration_samples=None, delta=None, epsilon=None, error_sensitive=None,\n",
       "  gamma=None, keep_tempfiles=None, linesearch=None, max_iterations=1000,\n",
       "  max_linesearch=None, min_freq=None, model_filename=None,\n",
       "  num_memories=None, pa_type=None, period=None, trainer_cls=None,\n",
       "  variance=None, verbose=False)"
      ]
     },
     "execution_count": 170,
     "metadata": {},
     "output_type": "execute_result"
    }
   ],
   "source": [
    "%%time\n",
    "crf.fit(X_train, y_train)"
   ]
  },
  {
   "cell_type": "markdown",
   "metadata": {},
   "source": [
    "## Initial evaluation"
   ]
  },
  {
   "cell_type": "markdown",
   "metadata": {},
   "source": [
    "We are interested in entity-level evaluation, so let's exclude entity type 'O' from our evaluations.\n"
   ]
  },
  {
   "cell_type": "code",
   "execution_count": 172,
   "metadata": {},
   "outputs": [
    {
     "name": "stdout",
     "output_type": "stream",
     "text": [
      "['B-ORG', 'O', 'B-MISC', 'B-PER', 'I-PER', 'B-LOC', 'I-ORG', 'I-MISC', 'I-LOC']\n",
      "['B-ORG', 'B-MISC', 'B-PER', 'I-PER', 'B-LOC', 'I-ORG', 'I-MISC', 'I-LOC']\n"
     ]
    }
   ],
   "source": [
    "labels = list(crf.classes_); print(labels)\n",
    "labels.remove('O')\n",
    "print(labels)"
   ]
  },
  {
   "cell_type": "code",
   "execution_count": 175,
   "metadata": {},
   "outputs": [
    {
     "data": {
      "text/plain": [
       "0.8853853553968202"
      ]
     },
     "execution_count": 175,
     "metadata": {},
     "output_type": "execute_result"
    }
   ],
   "source": [
    "y_pred = crf.predict(X_dev)\n",
    "metrics.flat_f1_score(y_dev, y_pred,\n",
    "                      average='weighted', \n",
    "                      labels=labels)"
   ]
  },
  {
   "cell_type": "markdown",
   "metadata": {},
   "source": [
    "We can inspect performances per entity type"
   ]
  },
  {
   "cell_type": "code",
   "execution_count": 182,
   "metadata": {},
   "outputs": [
    {
     "name": "stdout",
     "output_type": "stream",
     "text": [
      "['B-LOC', 'I-LOC', 'B-MISC', 'I-MISC', 'B-ORG', 'I-ORG', 'B-PER', 'I-PER']\n"
     ]
    }
   ],
   "source": [
    "sorted_labels = sorted(labels, \n",
    "                       key=lambda name: name.split('-')[::-1]\n",
    "                      )\n",
    "print(sorted_labels)"
   ]
  },
  {
   "cell_type": "code",
   "execution_count": 184,
   "metadata": {},
   "outputs": [
    {
     "name": "stdout",
     "output_type": "stream",
     "text": [
      "             precision    recall  f1-score   support\n",
      "\n",
      "      B-LOC      0.912     0.881     0.896      1837\n",
      "      I-LOC      0.934     0.833     0.881       257\n",
      "     B-MISC      0.911     0.836     0.872       922\n",
      "     I-MISC      0.873     0.734     0.797       346\n",
      "      B-ORG      0.875     0.815     0.844      1340\n",
      "      I-ORG      0.821     0.837     0.829       750\n",
      "      B-PER      0.904     0.908     0.906      1842\n",
      "      I-PER      0.948     0.950     0.949      1307\n",
      "\n",
      "avg / total      0.901     0.871     0.885      8601\n",
      "\n"
     ]
    }
   ],
   "source": [
    "print(metrics.flat_classification_report(\n",
    "    y_dev, y_pred, labels=sorted_labels, digits=3\n",
    "))"
   ]
  },
  {
   "cell_type": "code",
   "execution_count": 185,
   "metadata": {},
   "outputs": [],
   "source": [
    "import joblib"
   ]
  },
  {
   "cell_type": "code",
   "execution_count": 187,
   "metadata": {},
   "outputs": [
    {
     "data": {
      "text/plain": [
       "['../trained/crf_0.1_0.1_1000iter_09_25_11_00.sav']"
      ]
     },
     "execution_count": 187,
     "metadata": {},
     "output_type": "execute_result"
    }
   ],
   "source": [
    "joblib.dump(crf, \"../trained/crf_0.1_0.1_1000iter_09_25_11_00.sav\")"
   ]
  },
  {
   "cell_type": "markdown",
   "metadata": {},
   "source": [
    "## Hyperparameter tuning "
   ]
  },
  {
   "cell_type": "code",
   "execution_count": 188,
   "metadata": {},
   "outputs": [
    {
     "name": "stdout",
     "output_type": "stream",
     "text": [
      "CPU times: user 1.45 ms, sys: 123 µs, total: 1.57 ms\n",
      "Wall time: 1.58 ms\n"
     ]
    }
   ],
   "source": [
    "# define fixed parameters and parameters to search\n",
    "crf_rs = sklearn_crfsuite.CRF(\n",
    "    algorithm='lbfgs', \n",
    "    max_iterations=1000, \n",
    "    all_possible_transitions=True\n",
    ")\n",
    "params_space = {\n",
    "    'c1': scipy.stats.expon(scale=0.5),\n",
    "    'c2': scipy.stats.expon(scale=0.05),\n",
    "}\n",
    "\n",
    "# use the same metric for evaluation\n",
    "f1_scorer = make_scorer(metrics.flat_f1_score, \n",
    "                        average='weighted', labels=labels)"
   ]
  },
  {
   "cell_type": "code",
   "execution_count": null,
   "metadata": {},
   "outputs": [
    {
     "name": "stdout",
     "output_type": "stream",
     "text": [
      "Fitting 3 folds for each of 50 candidates, totalling 150 fits\n"
     ]
    }
   ],
   "source": [
    "%%time\n",
    "# search\n",
    "\n",
    "rs = RandomizedSearchCV(crf_rs, params_space, \n",
    "                        cv=3, \n",
    "                        verbose=1, \n",
    "                        n_jobs=-1, \n",
    "                        n_iter=50, \n",
    "                        scoring=f1_scorer)\n",
    "rs.fit(X_train, y_train)\n"
   ]
  },
  {
   "cell_type": "code",
   "execution_count": null,
   "metadata": {},
   "outputs": [],
   "source": [
    "joblib.dump(rs, '../trained/rs_cv:3_niter:50_09_25_11_30.sav'\n",
    "crf_rs = rs.best_estimator_\n",
    "print('best params:', rs.best_params_)\n",
    "print('best CV score:', rs.best_score_)\n",
    "print('model size: {:0.2f}M'.format(rs.best_estimator_.size_ / 1000000))"
   ]
  }
 ],
 "metadata": {
  "kernelspec": {
   "display_name": "Python 3",
   "language": "python",
   "name": "python3"
  },
  "language_info": {
   "codemirror_mode": {
    "name": "ipython",
    "version": 3
   },
   "file_extension": ".py",
   "mimetype": "text/x-python",
   "name": "python",
   "nbconvert_exporter": "python",
   "pygments_lexer": "ipython3",
   "version": "3.6.6"
  }
 },
 "nbformat": 4,
 "nbformat_minor": 2
}
