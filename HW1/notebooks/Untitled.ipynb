{
 "cells": [
  {
   "cell_type": "code",
   "execution_count": 1,
   "metadata": {},
   "outputs": [
    {
     "name": "stderr",
     "output_type": "stream",
     "text": [
      "/Users/hayley/miniconda3/envs/fastai-cpu/lib/python3.6/site-packages/sklearn/cross_validation.py:41: DeprecationWarning: This module was deprecated in version 0.18 in favor of the model_selection module into which all the refactored classes and functions are moved. Also note that the interface of the new CV iterators are different from that of this module. This module will be removed in 0.20.\n",
      "  \"This module will be removed in 0.20.\", DeprecationWarning)\n",
      "/Users/hayley/miniconda3/envs/fastai-cpu/lib/python3.6/site-packages/sklearn/grid_search.py:42: DeprecationWarning: This module was deprecated in version 0.18 in favor of the model_selection module into which all the refactored classes and functions are moved. This module will be removed in 0.20.\n",
      "  DeprecationWarning)\n"
     ]
    }
   ],
   "source": [
    "import sys\n",
    "import pandas as pd\n",
    "import numpy as np\n",
    "\n",
    "import sklearn\n",
    "import scipy.stats\n",
    "from sklearn.metrics import make_scorer\n",
    "# from sklearn.cross_validation import cross_val_score\n",
    "from sklearn.grid_search import RandomizedSearchCV\n",
    "\n",
    "import sklearn_crfsuite\n",
    "from sklearn_crfsuite import scorers\n",
    "from sklearn_crfsuite import metrics"
   ]
  },
  {
   "cell_type": "code",
   "execution_count": 2,
   "metadata": {},
   "outputs": [],
   "source": [
    "sys.path.insert(0, \"..\")"
   ]
  },
  {
   "cell_type": "code",
   "execution_count": 3,
   "metadata": {},
   "outputs": [],
   "source": [
    "from utils import data_converter, conlleval"
   ]
  },
  {
   "cell_type": "code",
   "execution_count": 4,
   "metadata": {},
   "outputs": [],
   "source": [
    "# train_data_iob = data_converter.read_conll('../data/eng.train')[1:] #ignore header\n",
    "train_data_bio = data_converter.read_conll('../utils/train.bio')[1:] #ignore header\n",
    "dev_data_bio = data_converter.read_conll('../utils/testa.bio')[1:]\n",
    "test_data = data_converter.read_conll('../data/eng.testb')[1:]"
   ]
  },
  {
   "cell_type": "code",
   "execution_count": 5,
   "metadata": {},
   "outputs": [
    {
     "name": "stdout",
     "output_type": "stream",
     "text": [
      "==================================================\n",
      "train data\n",
      "[['EU', 'NNP', 'I-NP', 'I-ORG', 'B-ORG'], ['rejects', 'VBZ', 'I-VP', 'O', 'O'], ['German', 'JJ', 'I-NP', 'I-MISC', 'B-MISC'], ['call', 'NN', 'I-NP', 'O', 'O'], ['to', 'TO', 'I-VP', 'O', 'O'], ['boycott', 'VB', 'I-VP', 'O', 'O'], ['British', 'JJ', 'I-NP', 'I-MISC', 'B-MISC'], ['lamb', 'NN', 'I-NP', 'O', 'O'], ['.', '.', 'O', 'O', 'O']]\n",
      "==================================================\n",
      "dev data\n",
      "[['CRICKET', 'NNP', 'I-NP', 'O', 'O'], ['-', ':', 'O', 'O', 'O'], ['LEICESTERSHIRE', 'NNP', 'I-NP', 'I-ORG', 'B-ORG'], ['TAKE', 'NNP', 'I-NP', 'O', 'O'], ['OVER', 'IN', 'I-PP', 'O', 'O'], ['AT', 'NNP', 'I-NP', 'O', 'O'], ['TOP', 'NNP', 'I-NP', 'O', 'O'], ['AFTER', 'NNP', 'I-NP', 'O', 'O'], ['INNINGS', 'NNP', 'I-NP', 'O', 'O'], ['VICTORY', 'NN', 'I-NP', 'O', 'O'], ['.', '.', 'O', 'O', 'O']]\n",
      "==================================================\n",
      "test data\n",
      "[['SOCCER', 'NN', 'I-NP'], ['-', ':', 'O'], ['JAPAN', 'NNP', 'I-NP'], ['GET', 'VB', 'I-VP'], ['LUCKY', 'NNP', 'I-NP'], ['WIN', 'NNP', 'I-NP'], [',', ',', 'O'], ['CHINA', 'NNP', 'I-NP'], ['IN', 'IN', 'I-PP'], ['SURPRISE', 'DT', 'I-NP'], ['DEFEAT', 'NN', 'I-NP'], ['.', '.', 'O']]\n"
     ]
    }
   ],
   "source": [
    "# print(train_data_iob[0])\n",
    "print(\"=\"*50)\n",
    "print(\"train data\")\n",
    "print(train_data_bio[0])\n",
    "print(\"=\"*50)\n",
    "print(\"dev data\")\n",
    "print(dev_data_bio[0])\n",
    "print(\"=\"*50)\n",
    "print(\"test data\")\n",
    "print(test_data[0])"
   ]
  },
  {
   "cell_type": "code",
   "execution_count": 21,
   "metadata": {},
   "outputs": [
    {
     "ename": "NameError",
     "evalue": "name 'train_df' is not defined",
     "output_type": "error",
     "traceback": [
      "\u001b[0;31m--------------------------------------------------------------\u001b[0m",
      "\u001b[0;31mNameError\u001b[0m                    Traceback (most recent call last)",
      "\u001b[0;32m<ipython-input-21-04dc6bf02c01>\u001b[0m in \u001b[0;36m<module>\u001b[0;34m()\u001b[0m\n\u001b[0;32m----> 1\u001b[0;31m \u001b[0mword2idx\u001b[0m \u001b[0;34m=\u001b[0m \u001b[0;34m{\u001b[0m\u001b[0mw\u001b[0m\u001b[0;34m:\u001b[0m\u001b[0midx\u001b[0m \u001b[0;32mfor\u001b[0m \u001b[0;34m(\u001b[0m\u001b[0midx\u001b[0m\u001b[0;34m,\u001b[0m\u001b[0mw\u001b[0m\u001b[0;34m)\u001b[0m \u001b[0;32min\u001b[0m \u001b[0menumerate\u001b[0m\u001b[0;34m(\u001b[0m\u001b[0mtrain_df\u001b[0m\u001b[0;34m[\u001b[0m\u001b[0;34m'token'\u001b[0m\u001b[0;34m]\u001b[0m\u001b[0;34m)\u001b[0m\u001b[0;34m}\u001b[0m\u001b[0;34m\u001b[0m\u001b[0m\n\u001b[0m\u001b[1;32m      2\u001b[0m \u001b[0midx2word\u001b[0m \u001b[0;34m=\u001b[0m \u001b[0;34m{\u001b[0m\u001b[0midx\u001b[0m\u001b[0;34m:\u001b[0m\u001b[0mw\u001b[0m \u001b[0;32mfor\u001b[0m \u001b[0;34m(\u001b[0m\u001b[0mw\u001b[0m\u001b[0;34m,\u001b[0m\u001b[0midx\u001b[0m\u001b[0;34m)\u001b[0m \u001b[0;32min\u001b[0m \u001b[0mword2idx\u001b[0m\u001b[0;34m.\u001b[0m\u001b[0mitems\u001b[0m\u001b[0;34m(\u001b[0m\u001b[0;34m)\u001b[0m\u001b[0;34m}\u001b[0m\u001b[0;34m\u001b[0m\u001b[0m\n",
      "\u001b[0;31mNameError\u001b[0m: name 'train_df' is not defined"
     ]
    }
   ],
   "source": [
    "word2idx = {w:idx for (idx,w) in enumerate(train_df['token'])}\n",
    "idx2word = {idx:w for (w,idx) in word2idx.items()}"
   ]
  },
  {
   "cell_type": "code",
   "execution_count": 17,
   "metadata": {},
   "outputs": [],
   "source": [
    "d = {w:i for (w,i) in zip([1,2,3],[10,20,30])}"
   ]
  },
  {
   "cell_type": "code",
   "execution_count": 18,
   "metadata": {},
   "outputs": [
    {
     "data": {
      "text/plain": [
       "dict_items([(1, 10), (2, 20), (3, 30)])"
      ]
     },
     "execution_count": 18,
     "metadata": {},
     "output_type": "execute_result"
    }
   ],
   "source": [
    "d.items()"
   ]
  },
  {
   "cell_type": "code",
   "execution_count": 20,
   "metadata": {},
   "outputs": [
    {
     "name": "stdout",
     "output_type": "stream",
     "text": [
      "1 10\n",
      "2 20\n",
      "3 30\n"
     ]
    }
   ],
   "source": [
    "for k,v in d.items():\n",
    "    print (k,v)"
   ]
  },
  {
   "cell_type": "code",
   "execution_count": null,
   "metadata": {},
   "outputs": [],
   "source": []
  }
 ],
 "metadata": {
  "kernelspec": {
   "display_name": "Python 3",
   "language": "python",
   "name": "python3"
  },
  "language_info": {
   "codemirror_mode": {
    "name": "ipython",
    "version": 3
   },
   "file_extension": ".py",
   "mimetype": "text/x-python",
   "name": "python",
   "nbconvert_exporter": "python",
   "pygments_lexer": "ipython3",
   "version": "3.6.6"
  }
 },
 "nbformat": 4,
 "nbformat_minor": 2
}
